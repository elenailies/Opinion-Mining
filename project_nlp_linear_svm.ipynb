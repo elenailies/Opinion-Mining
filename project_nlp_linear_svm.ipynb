{
  "nbformat": 4,
  "nbformat_minor": 0,
  "metadata": {
    "colab": {
      "name": "proiect_nlp_svm.ipynb",
      "provenance": [],
      "collapsed_sections": []
    },
    "kernelspec": {
      "name": "python3",
      "display_name": "Python 3"
    },
    "language_info": {
      "name": "python"
    }
  },
  "cells": [
    {
      "cell_type": "code",
      "execution_count": null,
      "metadata": {
        "id": "zAPXPu7ll55y",
        "colab": {
          "base_uri": "https://localhost:8080/"
        },
        "outputId": "7acd73bf-5178-4b12-c873-25d731d785ad"
      },
      "outputs": [
        {
          "output_type": "stream",
          "name": "stdout",
          "text": [
            "Requirement already satisfied: nltk in /usr/local/lib/python3.7/dist-packages (3.2.5)\n",
            "Requirement already satisfied: six in /usr/local/lib/python3.7/dist-packages (from nltk) (1.15.0)\n",
            "Collecting num2words\n",
            "  Downloading num2words-0.5.10-py3-none-any.whl (101 kB)\n",
            "\u001b[K     |████████████████████████████████| 101 kB 4.6 MB/s \n",
            "\u001b[?25hRequirement already satisfied: docopt>=0.6.2 in /usr/local/lib/python3.7/dist-packages (from num2words) (0.6.2)\n",
            "Installing collected packages: num2words\n",
            "Successfully installed num2words-0.5.10\n"
          ]
        }
      ],
      "source": [
        "! pip install nltk\n",
        "! pip install num2words"
      ]
    },
    {
      "cell_type": "code",
      "source": [
        "import json\n",
        "import nltk \n",
        "import re\n",
        "import numpy\n",
        "from sklearn.svm import SVC\n",
        "from sklearn import preprocessing, metrics\n",
        "from nltk.corpus import stopwords\n",
        "from sklearn import preprocessing, metrics\n",
        "from nltk.stem.snowball import SnowballStemmer\n",
        "from nltk import word_tokenize\n",
        "from sklearn.feature_extraction.text import CountVectorizer, TfidfVectorizer\n",
        "from sklearn.linear_model import LogisticRegression\n",
        "from nltk.stem import WordNetLemmatizer\n",
        "import string\n",
        "from sklearn.ensemble import RandomForestClassifier\n",
        "import random\n",
        "import matplotlib.pyplot as plt\n",
        "import seaborn as sns\n",
        "import json\n",
        "import numpy\n",
        "import string\n",
        "from num2words import num2words\n",
        "import re\n",
        "#import emoji\n",
        "import numpy as np\n",
        "from sklearn.model_selection import train_test_split\n",
        "\n",
        "from numpy.random import seed\n",
        "from tensorflow import random\n",
        "seed(1)\n",
        "random.set_seed(2)\n",
        "\n",
        "from keras.models import Sequential\n",
        "from keras import layers \n",
        "from keras.callbacks import EarlyStopping\n",
        "\n",
        "import sklearn.metrics as metrics\n",
        "from sklearn.feature_extraction.text import TfidfVectorizer"
      ],
      "metadata": {
        "id": "E-IwljssIxRC"
      },
      "execution_count": null,
      "outputs": []
    },
    {
      "cell_type": "code",
      "source": [
        "from google.colab import drive\n",
        "drive.mount('/content/gdrive', force_remount=True)\n",
        "% cd gdrive/MyDrive/Laborator - NLP/Proiect"
      ],
      "metadata": {
        "id": "D82ihkjml-zA",
        "colab": {
          "base_uri": "https://localhost:8080/"
        },
        "outputId": "b7432446-1470-4ee2-aa32-01afc6424fff"
      },
      "execution_count": null,
      "outputs": [
        {
          "output_type": "stream",
          "name": "stdout",
          "text": [
            "Mounted at /content/gdrive\n",
            "/content/gdrive/MyDrive/Laborator - NLP/Proiect\n"
          ]
        }
      ]
    },
    {
      "cell_type": "code",
      "source": [
        "with open(\"amazon_one_plus_reviews.json\", \"r\") as f:\n",
        "    all_reviews = json.load(f) \n",
        "\n",
        "reviews = []\n",
        "labels = []\n",
        "labels_group = []\n",
        "texts_without_duplicate = []\n",
        "for review in all_reviews:\n",
        "  if review[\"product\"] == 'OnePlus Nord 5G (Gray Onyx, 8GB RAM, 128GB Storage)':\n",
        "    text = review['review_title'] + \" \" + review['review_text']\n",
        "    if text in texts_without_duplicate:\n",
        "       continue\n",
        "    reviews.append(text)\n",
        "    texts_without_duplicate.append(text)\n",
        "    stars = int(float(review['review_rating'][0:3]))\n",
        "    # clasele separate\n",
        "    labels.append(stars)\n",
        "    # clasele grupate\n",
        "    if stars < 3: labels_group.append(1) # bad si very bad\n",
        "    elif stars > 3: labels_group.append(3) # good si very good\n",
        "    else: labels_group.append(2) # neutral"
      ],
      "metadata": {
        "id": "SlUC-MQsJnjQ"
      },
      "execution_count": null,
      "outputs": []
    },
    {
      "cell_type": "code",
      "source": [
        "import spacy\n",
        "nlp = spacy.load('en_core_web_sm')"
      ],
      "metadata": {
        "id": "IruUmjdcJu2g"
      },
      "execution_count": null,
      "outputs": []
    },
    {
      "cell_type": "code",
      "source": [
        "stemmer = SnowballStemmer(language='english')\n",
        "\n",
        "def stemming(text):\n",
        "  text_stemmer = \"\";\n",
        "  for token in text.split(\" \"):\n",
        "      text_stemmer += stemmer.stem(token) + \" \"\n",
        "  return text_stemmer\n",
        "\n",
        "def preprocessing_function(review):\n",
        "  review_without_endl_and_lower = review.replace(\"\\n\", \" \").lower() # eliminam endline-urile din review-uri si le transformarea in litere mici\n",
        "  review_without_punctuation = re.sub(r\"[^\\w\\s]\", ' ', review_without_endl_and_lower)\n",
        "  review_without_spaces = re.sub(r'\\s+', ' ', review_without_punctuation).strip() # eliminam spatiile multiple\n",
        "  review_num2words = (' '.join([num2words(word) if word.isdigit() else word for word in review_without_spaces.split()]))  # transformam numerele in litere\n",
        "  return stemming(review_num2words)\n",
        "\n",
        "preprocessed_reviews = [preprocessing_function(review) for review in reviews]\n",
        "print(reviews[0])\n",
        "print(preprocessed_reviews[0])\n",
        "reviews = preprocessed_reviews"
      ],
      "metadata": {
        "colab": {
          "base_uri": "https://localhost:8080/"
        },
        "id": "zlBxeDbjJ28i",
        "outputId": "bb772fbd-5994-4411-a4bf-dc9e4cc4ccae"
      },
      "execution_count": null,
      "outputs": [
        {
          "output_type": "stream",
          "name": "stdout",
          "text": [
            "*Read before you buy!!* \n",
            "  Yea..pre-ordered on 28 July, got it on 4 August. Package was nice without any damage. So here is my first impression:\n",
            "read befor you buy yea pre order on twenty-eight juli got it on four august packag was nice without ani damag so here is my first impress \n"
          ]
        }
      ]
    },
    {
      "cell_type": "code",
      "source": [
        "nltk.download('stopwords')\n",
        "nltk.download('punkt')\n",
        "nltk.download('wordnet')"
      ],
      "metadata": {
        "colab": {
          "base_uri": "https://localhost:8080/"
        },
        "id": "an-THY0Rd9yB",
        "outputId": "da6d484b-07e9-4e5d-d3a5-70b462486644"
      },
      "execution_count": null,
      "outputs": [
        {
          "output_type": "stream",
          "name": "stdout",
          "text": [
            "[nltk_data] Downloading package stopwords to /root/nltk_data...\n",
            "[nltk_data]   Unzipping corpora/stopwords.zip.\n",
            "[nltk_data] Downloading package punkt to /root/nltk_data...\n",
            "[nltk_data]   Unzipping tokenizers/punkt.zip.\n",
            "[nltk_data] Downloading package wordnet to /root/nltk_data...\n",
            "[nltk_data]   Unzipping corpora/wordnet.zip.\n"
          ]
        },
        {
          "output_type": "execute_result",
          "data": {
            "text/plain": [
              "True"
            ]
          },
          "metadata": {},
          "execution_count": 7
        }
      ]
    },
    {
      "cell_type": "code",
      "source": [
        "def tokenize(text):\n",
        "    return word_tokenize(text)\n",
        "\n",
        "def l1_norm(list_text):\n",
        "  scaler = preprocessing.Normalizer(norm='l1') \n",
        "  list_l1 = scaler.transform(list_text)\n",
        "  return list_l1\n",
        "\n",
        "cv = TfidfVectorizer(\n",
        "    preprocessor=preprocessing_function, \n",
        "    tokenizer=tokenize,       \n",
        "    token_pattern=None,             \n",
        "    max_features=7000,                 \n",
        "    binary=True,                          \n",
        ")\n",
        "\n",
        "cv.fit(reviews)\n",
        "\n",
        "features = cv.transform(reviews)\n",
        "data = features.toarray()\n",
        "data_norm = l1_norm(data)\n",
        "print(data_norm)\n",
        "#print(reviews[0])\n",
        "#print(sorted(list(cv3.vocabulary_.keys())))"
      ],
      "metadata": {
        "colab": {
          "base_uri": "https://localhost:8080/"
        },
        "id": "jmVSQi4pLSgI",
        "outputId": "5db2470f-0d7f-4ae5-c8d4-30dac9d90722"
      },
      "execution_count": null,
      "outputs": [
        {
          "output_type": "stream",
          "name": "stdout",
          "text": [
            "[[0. 0. 0. ... 0. 0. 0.]\n",
            " [0. 0. 0. ... 0. 0. 0.]\n",
            " [0. 0. 0. ... 0. 0. 0.]\n",
            " ...\n",
            " [0. 0. 0. ... 0. 0. 0.]\n",
            " [0. 0. 0. ... 0. 0. 0.]\n",
            " [0. 0. 0. ... 0. 0. 0.]]\n"
          ]
        }
      ]
    },
    {
      "cell_type": "code",
      "source": [
        "# impartim datele in date de antrenare, validare si testare\n",
        "train_data, test_data = train_test_split(data_norm, test_size=0.20, random_state = 42)\n",
        "\n",
        "train_labels, test_labels = train_test_split(labels, test_size=0.20, random_state = 42)\n",
        "\n",
        "train_labels_group, test_labels_group = train_test_split(labels_group, test_size=0.20, random_state = 42)\n",
        "\n",
        "train_labels = np.array(train_labels)\n",
        "test_labels = np.array(test_labels)\n",
        "train_labels_group = np.array(train_labels_group)\n",
        "test_labels_group = np.array(test_labels_group)\n",
        "\n",
        "print(len(train_labels))\n",
        "print(len(train_labels_group))"
      ],
      "metadata": {
        "colab": {
          "base_uri": "https://localhost:8080/"
        },
        "id": "BafmlxiJe1Lq",
        "outputId": "acbbffb2-119e-4051-884f-ec8009cf0a11"
      },
      "execution_count": null,
      "outputs": [
        {
          "output_type": "stream",
          "name": "stdout",
          "text": [
            "7253\n",
            "7253\n"
          ]
        }
      ]
    },
    {
      "cell_type": "code",
      "source": [
        "linear_SVM = SVC(C=10.0, kernel='linear', tol=0.01)\n",
        "linear_SVM.fit(train_data, train_labels)\n",
        "SVM_predicts = linear_SVM.predict(test_data)"
      ],
      "metadata": {
        "id": "llH8L_XflB-E"
      },
      "execution_count": null,
      "outputs": []
    },
    {
      "cell_type": "code",
      "source": [
        "SVM_accuracy = metrics.accuracy_score(test_labels, SVM_predicts)\n",
        "SVM_precision_score_macro = metrics.precision_score(test_labels, SVM_predicts, average=\"macro\")\n",
        "SVM_precision_score_weighted = metrics.precision_score(test_labels, SVM_predicts, average=\"weighted\")\n",
        "SVM_recall_score_macro = metrics.recall_score(test_labels, SVM_predicts, average=\"macro\")\n",
        "SVM_recall_score_weighted = metrics.recall_score(test_labels, SVM_predicts, average=\"weighted\")\n",
        "SVM_f1_score_macro = metrics.f1_score(test_labels, SVM_predicts, average=\"macro\")\n",
        "SVM_f1_score_weighted = metrics.f1_score(test_labels, SVM_predicts, average=\"weighted\")\n",
        "\n",
        "print(\"Accuracy: \", SVM_accuracy)\n",
        "print(\"Precision (macro): \", SVM_precision_score_macro)\n",
        "print(\"Precision (weighted): \", SVM_precision_score_weighted)\n",
        "print(\"Recall (macro): \", SVM_recall_score_macro)\n",
        "print(\"Recall (weighted): \", SVM_recall_score_weighted)\n",
        "print(\"F1 (macro): \", SVM_f1_score_macro)\n",
        "print(\"F1 (weighted): \", SVM_f1_score_weighted)\n"
      ],
      "metadata": {
        "colab": {
          "base_uri": "https://localhost:8080/"
        },
        "id": "r7nRyzeayXSE",
        "outputId": "a7cd3db1-affc-43e6-800d-fb49168089e5"
      },
      "execution_count": null,
      "outputs": [
        {
          "output_type": "stream",
          "name": "stdout",
          "text": [
            "Accuracy:  0.6168687982359427\n",
            "Precision (macro):  0.37470074174965495\n",
            "Precision (weighted):  0.532438521765859\n",
            "Recall (macro):  0.39684249530396276\n",
            "Recall (weighted):  0.6168687982359427\n",
            "F1 (macro):  0.36848434371149896\n",
            "F1 (weighted):  0.5552583882742952\n"
          ]
        }
      ]
    },
    {
      "cell_type": "code",
      "source": [
        "print(metrics.classification_report(test_labels, SVM_predicts))\n",
        "print(metrics.confusion_matrix(test_labels, SVM_predicts))"
      ],
      "metadata": {
        "colab": {
          "base_uri": "https://localhost:8080/"
        },
        "id": "sBB1B41LxXw6",
        "outputId": "5a6ddc53-58a3-418b-aef6-5d959f9bbfa6"
      },
      "execution_count": null,
      "outputs": [
        {
          "output_type": "stream",
          "name": "stdout",
          "text": [
            "              precision    recall  f1-score   support\n",
            "\n",
            "           1       0.56      0.76      0.64       240\n",
            "           2       0.00      0.00      0.00        98\n",
            "           3       0.21      0.10      0.14       161\n",
            "           4       0.41      0.20      0.27       403\n",
            "           5       0.69      0.92      0.79       912\n",
            "\n",
            "    accuracy                           0.62      1814\n",
            "   macro avg       0.37      0.40      0.37      1814\n",
            "weighted avg       0.53      0.62      0.56      1814\n",
            "\n",
            "[[183   1  12  10  34]\n",
            " [ 49   0  11  18  20]\n",
            " [ 46   2  16  40  57]\n",
            " [ 36   0  27  82 258]\n",
            " [ 14   0   9  51 838]]\n"
          ]
        }
      ]
    },
    {
      "cell_type": "code",
      "source": [
        "ax = sns.heatmap(metrics.confusion_matrix(test_labels, SVM_predicts), annot=True, cmap='Blues')\n",
        "\n",
        "ax.set_title('Confusion Matrix \\n\\n');\n",
        "ax.set_xlabel('\\nPredicted Values')\n",
        "ax.set_ylabel('Actual Values ');\n",
        "\n",
        "plt.show()"
      ],
      "metadata": {
        "colab": {
          "base_uri": "https://localhost:8080/",
          "height": 337
        },
        "id": "iu4Ct5MUxeFl",
        "outputId": "04fa5be2-21e2-48ef-f310-098ff52ee514"
      },
      "execution_count": null,
      "outputs": [
        {
          "output_type": "display_data",
          "data": {
            "text/plain": [
              "<Figure size 432x288 with 2 Axes>"
            ],
            "image/png": "[encoded data removed]"
          },
          "metadata": {
            "needs_background": "light"
          }
        }
      ]
    },
    {
      "cell_type": "code",
      "source": [
        "linear_SVM = SVC(C=10.0, kernel='linear', tol=0.01)\n",
        "linear_SVM.fit(train_data, train_labels_group)\n",
        "SVM_predicts = linear_SVM.predict(test_data)"
      ],
      "metadata": {
        "id": "2gHmxfw2ux7p"
      },
      "execution_count": null,
      "outputs": []
    },
    {
      "cell_type": "code",
      "source": [
        "SVM_accuracy = metrics.accuracy_score(test_labels_group, SVM_predicts)\n",
        "SVM_precision_score_macro = metrics.precision_score(test_labels_group, SVM_predicts, average=\"macro\")\n",
        "SVM_precision_score_weighted = metrics.precision_score(test_labels_group, SVM_predicts, average=\"weighted\")\n",
        "SVM_recall_score_macro = metrics.recall_score(test_labels_group, SVM_predicts, average=\"macro\")\n",
        "SVM_recall_score_weighted = metrics.recall_score(test_labels_group, SVM_predicts, average=\"weighted\")\n",
        "SVM_f1_score_macro = metrics.f1_score(test_labels_group, SVM_predicts, average=\"macro\")\n",
        "SVM_f1_score_weighted = metrics.f1_score(test_labels_group, SVM_predicts, average=\"weighted\")\n",
        "\n",
        "print(\"Accuracy: \", SVM_accuracy)\n",
        "print(\"Precision (macro): \", SVM_precision_score_macro)\n",
        "print(\"Precision (weighted): \", SVM_precision_score_weighted)\n",
        "print(\"Recall (macro): \", SVM_recall_score_macro)\n",
        "print(\"Recall (weighted): \", SVM_recall_score_weighted)\n",
        "print(\"F1 (macro): \", SVM_f1_score_macro)\n",
        "print(\"F1 (weighted): \", SVM_f1_score_weighted)\n"
      ],
      "metadata": {
        "colab": {
          "base_uri": "https://localhost:8080/"
        },
        "id": "eQoiXdGUwO_i",
        "outputId": "193753ae-e417-480b-804c-fe647e605683"
      },
      "execution_count": null,
      "outputs": [
        {
          "output_type": "stream",
          "name": "stdout",
          "text": [
            "Accuracy:  0.8197353914002206\n",
            "Precision (macro):  0.572055063913471\n",
            "Precision (weighted):  0.7673450026506393\n",
            "Recall (macro):  0.5571195153173103\n",
            "Recall (weighted):  0.8197353914002206\n",
            "F1 (macro):  0.5473978011723801\n",
            "F1 (weighted):  0.7875919883138496\n"
          ]
        }
      ]
    },
    {
      "cell_type": "code",
      "source": [
        "print(metrics.classification_report(test_labels_group, SVM_predicts))\n",
        "print(metrics.confusion_matrix(test_labels_group, SVM_predicts))"
      ],
      "metadata": {
        "colab": {
          "base_uri": "https://localhost:8080/"
        },
        "id": "y28JEM_sxu_k",
        "outputId": "add52340-f637-4d21-c457-94f5f4f16719"
      },
      "execution_count": null,
      "outputs": [
        {
          "output_type": "stream",
          "name": "stdout",
          "text": [
            "              precision    recall  f1-score   support\n",
            "\n",
            "           1       0.70      0.70      0.70       338\n",
            "           2       0.16      0.02      0.04       161\n",
            "           3       0.86      0.95      0.90      1315\n",
            "\n",
            "    accuracy                           0.82      1814\n",
            "   macro avg       0.57      0.56      0.55      1814\n",
            "weighted avg       0.77      0.82      0.79      1814\n",
            "\n",
            "[[ 236    9   93]\n",
            " [  47    4  110]\n",
            " [  56   12 1247]]\n"
          ]
        }
      ]
    },
    {
      "cell_type": "code",
      "source": [
        "ax = sns.heatmap(metrics.confusion_matrix(test_labels_group, SVM_predicts), annot=True, cmap='Blues')\n",
        "\n",
        "ax.set_title('Confusion Matrix \\n\\n');\n",
        "ax.set_xlabel('\\nPredicted Values')\n",
        "ax.set_ylabel('Actual Values ');\n",
        "\n",
        "plt.show()"
      ],
      "metadata": {
        "colab": {
          "base_uri": "https://localhost:8080/"
        },
        "id": "FCoHgm8rwa5n",
        "outputId": "9c3dc04c-7cbd-4b60-e9b4-95a7a168fd77"
      },
      "execution_count": null,
      "outputs": [
        {
          "output_type": "display_data",
          "data": {
            "text/plain": [
              "<Figure size 432x288 with 2 Axes>"
            ],
            "image/png": "[encoded data removed]"
          },
          "metadata": {
            "needs_background": "light"
          }
        }
      ]
    }
  ]
}