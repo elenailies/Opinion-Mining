{
  "nbformat": 4,
  "nbformat_minor": 0,
  "metadata": {
    "colab": {
      "name": "proiect_nlp_cnn.ipynb",
      "provenance": [],
      "collapsed_sections": []
    },
    "kernelspec": {
      "name": "python3",
      "display_name": "Python 3"
    },
    "language_info": {
      "name": "python"
    }
  },
  "cells": [
    {
      "cell_type": "code",
      "source": [
        "! pip install num2words\n",
        "! pip install emoji"
      ],
      "metadata": {
        "id": "G0T4aQgYYDqu"
      },
      "execution_count": null,
      "outputs": []
    },
    {
      "cell_type": "code",
      "source": [
        "import json\n",
        "import numpy\n",
        "import string\n",
        "from num2words import num2words\n",
        "import re\n",
        "import emoji\n",
        "import numpy as np\n",
        "from sklearn.model_selection import train_test_split"
      ],
      "metadata": {
        "id": "ELR8JWcQ5wLJ"
      },
      "execution_count": null,
      "outputs": []
    },
    {
      "cell_type": "code",
      "source": [
        "from google.colab import drive\n",
        "drive.mount('/content/gdrive', force_remount=True)\n",
        "% cd gdrive/MyDrive/Laborator - NLP/Proiect"
      ],
      "metadata": {
        "colab": {
          "base_uri": "https://localhost:8080/"
        },
        "id": "vKzV-cB0O7wK",
        "outputId": "e4bca421-a3c2-4ef6-d71c-0ece8cc7a611"
      },
      "execution_count": null,
      "outputs": [
        {
          "output_type": "stream",
          "name": "stdout",
          "text": [
            "Mounted at /content/gdrive\n",
            "/content/gdrive/MyDrive/Laborator - NLP/Proiect\n"
          ]
        }
      ]
    },
    {
      "cell_type": "markdown",
      "source": [
        "Folosim doua variante pentru clase:\n",
        "  - clasele sunt de la 1 la 5 \n",
        "  - clasele sunt de la 1 la 3 (grupam clasele 1 si 2, respectiv 4 si 5"
      ],
      "metadata": {
        "id": "Qaqg2nAcg07M"
      }
    },
    {
      "cell_type": "code",
      "source": [
        "# citim review-urile\n",
        "with open(\"amazon_one_plus_reviews.json\", \"r\") as f:\n",
        "    all_reviews = json.load(f) \n",
        "\n",
        "reviews = []\n",
        "labels = []\n",
        "labels_group = []\n",
        "texts_without_duplicate = []\n",
        "for review in all_reviews:\n",
        "  if review[\"product\"] == 'OnePlus Nord 5G (Gray Onyx, 8GB RAM, 128GB Storage)':\n",
        "    text = review['review_title'] + \" \" + review['review_text']\n",
        "    if text in texts_without_duplicate:\n",
        "       continue\n",
        "    reviews.append(text)\n",
        "    texts_without_duplicate.append(text)\n",
        "    stars = int(float(review['review_rating'][0:3]))\n",
        "    # clasele separate\n",
        "    labels.append(stars)\n",
        "    # clasele grupate\n",
        "    if stars < 3: labels_group.append(1) # bad si very bad\n",
        "    elif stars > 3: labels_group.append(3) # good si very good\n",
        "    else: labels_group.append(2) # neutral"
      ],
      "metadata": {
        "id": "riH-7jQ7AL-Z"
      },
      "execution_count": null,
      "outputs": []
    },
    {
      "cell_type": "code",
      "source": [
        "print(len(reviews))\n",
        "print(len(labels))"
      ],
      "metadata": {
        "id": "1ypWU1TgOucu",
        "colab": {
          "base_uri": "https://localhost:8080/"
        },
        "outputId": "3fa6e647-1a21-4c76-eb28-46437ba7c6a5"
      },
      "execution_count": null,
      "outputs": [
        {
          "output_type": "stream",
          "name": "stdout",
          "text": [
            "9067\n",
            "9067\n"
          ]
        }
      ]
    },
    {
      "cell_type": "code",
      "source": [
        "emoji_re = emoji.get_emoji_regexp()\n",
        "import spacy\n",
        "nlp = spacy.load('en_core_web_sm')"
      ],
      "metadata": {
        "colab": {
          "base_uri": "https://localhost:8080/"
        },
        "id": "kP_rQ8B2uOw-",
        "outputId": "d25c33f4-8fc0-49be-dc6b-5eadbb13f625"
      },
      "execution_count": null,
      "outputs": [
        {
          "output_type": "stream",
          "name": "stderr",
          "text": [
            "/usr/local/lib/python3.7/dist-packages/ipykernel_launcher.py:1: DeprecationWarning: 'emoji.get_emoji_regexp()' is deprecated and will be removed in version 2.0.0. If you want to remove emoji from a string, consider the method emoji.replace_emoji(str, replace='').\n",
            "To hide this warning, pin/downgrade the package to 'emoji~=1.6.3'\n",
            "  \"\"\"Entry point for launching an IPython kernel.\n"
          ]
        }
      ]
    },
    {
      "cell_type": "code",
      "source": [
        "# preprocesam datele\n",
        "\n",
        "def preprocessing_function(review):\n",
        "  review_without_endl_and_lower = review.replace(\"\\n\", \" \").lower() # eliminam endline-urile din review-uri si le transformarea in litere mici\n",
        "  review_without_punctuation = re.sub(r\"[^\\w\\s]\", ' ', review_without_endl_and_lower) # eliminam punctuatia\n",
        "  review_without_emoji = re.sub(emoji_re,' ', review_without_punctuation) # eliminam emoji-urile\n",
        "  review_without_spaces = re.sub(r'\\s+', ' ', review_without_emoji).strip() # eliminam spatiile multiple\n",
        "  review_num2words = (' '.join([num2words(word) if word.isdigit() else word for word in review_without_spaces.split()]))  # transformam numerele in litere\n",
        "  return review_num2words\n",
        "\n",
        "preprocessed_reviews = [preprocessing_function(review) for review in reviews]\n",
        "print(reviews[0])\n",
        "print(preprocessed_reviews[0])\n",
        "reviews = preprocessed_reviews"
      ],
      "metadata": {
        "id": "Qc3iWJ63Qwvp",
        "colab": {
          "base_uri": "https://localhost:8080/"
        },
        "outputId": "138b3dfe-3a74-4ec8-dfba-fe49537e3783"
      },
      "execution_count": null,
      "outputs": [
        {
          "output_type": "stream",
          "name": "stdout",
          "text": [
            "*Read before you buy!!* \n",
            "  Yea..pre-ordered on 28 July, got it on 4 August. Package was nice without any damage. So here is my first impression:\n",
            "read before you buy yea pre ordered on twenty-eight july got it on four august package was nice without any damage so here is my first impression\n"
          ]
        }
      ]
    },
    {
      "cell_type": "code",
      "source": [
        "# impartim datele in date de antrenare, validare si testare\n",
        "train_data, test_validation_data = train_test_split(reviews, test_size=0.20, random_state = 42)\n",
        "validation_data, test_data = train_test_split(test_validation_data, test_size=0.50, random_state = 42)\n",
        "\n",
        "train_labels, test_validation_labels = train_test_split(labels, test_size=0.20, random_state = 42)\n",
        "validation_labels, test_labels = train_test_split(test_validation_labels, test_size=0.50, random_state = 42)\n",
        "\n",
        "train_labels_group, test_validation_labels_group = train_test_split(labels_group, test_size=0.20, random_state = 42)\n",
        "validation_labels_group, test_labels_group = train_test_split(test_validation_labels_group, test_size=0.50, random_state = 42)\n",
        "\n",
        "train_labels = np.array(train_labels)\n",
        "test_labels = np.array(test_labels)\n",
        "validation_labels = np.array(validation_labels)\n",
        "train_labels_group = np.array(train_labels_group)\n",
        "test_labels_group = np.array(test_labels_group)\n",
        "validation_labels_group = np.array(validation_labels_group)\n",
        "\n",
        "print(len(train_labels))\n",
        "print(len(train_labels_group))"
      ],
      "metadata": {
        "id": "tNshr8C5zteV",
        "colab": {
          "base_uri": "https://localhost:8080/"
        },
        "outputId": "9deca4da-0b70-4a3d-961c-1981d92e6406"
      },
      "execution_count": null,
      "outputs": [
        {
          "output_type": "stream",
          "name": "stdout",
          "text": [
            "7253\n",
            "7253\n"
          ]
        }
      ]
    },
    {
      "cell_type": "code",
      "source": [
        "# atribuim cuvintelor din review un index\n",
        "\n",
        "from keras.preprocessing.text import Tokenizer\n",
        "\n",
        "tokenizer = Tokenizer(num_words=1000)\n",
        "tokenizer.fit_on_texts(train_data)\n",
        "train_data_tokenize = tokenizer.texts_to_sequences(train_data)\n",
        "validation_data_tokenize = tokenizer.texts_to_sequences(validation_data)\n",
        "test_data_tokenize = tokenizer.texts_to_sequences(test_data)\n",
        "vocab_size = len(tokenizer.word_index) + 1 \n",
        "print(vocab_size)\n",
        "print(train_data[0])\n",
        "print(train_data_tokenize[0]) "
      ],
      "metadata": {
        "id": "Jp-xkq2WnaWu",
        "colab": {
          "base_uri": "https://localhost:8080/"
        },
        "outputId": "ca5b0dc6-7cc8-44c1-a640-7323a9750f08"
      },
      "execution_count": null,
      "outputs": [
        {
          "output_type": "stream",
          "name": "stdout",
          "text": [
            "6105\n",
            "one plus nord 12gb i have some issue about video playing it automatically stops for little bit of second\n",
            "[16, 28, 21, 288, 7, 40, 112, 37, 114, 244, 417, 6, 248, 11, 186, 206, 19, 536]\n"
          ]
        }
      ]
    },
    {
      "cell_type": "code",
      "source": [
        "from keras.preprocessing.sequence import pad_sequences\n",
        "\n",
        "# aducem toate reprezentarile la aceasi dimensiune maxima\n",
        "maxlen = 300\n",
        "train_data_tokenize = np.array(pad_sequences(train_data_tokenize, padding='post', maxlen=maxlen))\n",
        "validation_data_tokenize = np.array(pad_sequences(validation_data_tokenize, padding='post', maxlen=maxlen))\n",
        "test_data_tokenize = np.array(pad_sequences(test_data_tokenize, padding='post', maxlen=maxlen))\n",
        "print(test_data_tokenize[0, :]) "
      ],
      "metadata": {
        "id": "3MidJmJfn7nl",
        "colab": {
          "base_uri": "https://localhost:8080/"
        },
        "outputId": "1c4906b4-9367-43c7-874c-956a1a54a088"
      },
      "execution_count": null,
      "outputs": [
        {
          "output_type": "stream",
          "name": "stdout",
          "text": [
            "[29 26  0  0  0  0  0  0  0  0  0  0  0  0  0  0  0  0  0  0  0  0  0  0\n",
            "  0  0  0  0  0  0  0  0  0  0  0  0  0  0  0  0  0  0  0  0  0  0  0  0\n",
            "  0  0  0  0  0  0  0  0  0  0  0  0  0  0  0  0  0  0  0  0  0  0  0  0\n",
            "  0  0  0  0  0  0  0  0  0  0  0  0  0  0  0  0  0  0  0  0  0  0  0  0\n",
            "  0  0  0  0  0  0  0  0  0  0  0  0  0  0  0  0  0  0  0  0  0  0  0  0\n",
            "  0  0  0  0  0  0  0  0  0  0  0  0  0  0  0  0  0  0  0  0  0  0  0  0\n",
            "  0  0  0  0  0  0  0  0  0  0  0  0  0  0  0  0  0  0  0  0  0  0  0  0\n",
            "  0  0  0  0  0  0  0  0  0  0  0  0  0  0  0  0  0  0  0  0  0  0  0  0\n",
            "  0  0  0  0  0  0  0  0  0  0  0  0  0  0  0  0  0  0  0  0  0  0  0  0\n",
            "  0  0  0  0  0  0  0  0  0  0  0  0  0  0  0  0  0  0  0  0  0  0  0  0\n",
            "  0  0  0  0  0  0  0  0  0  0  0  0  0  0  0  0  0  0  0  0  0  0  0  0\n",
            "  0  0  0  0  0  0  0  0  0  0  0  0  0  0  0  0  0  0  0  0  0  0  0  0\n",
            "  0  0  0  0  0  0  0  0  0  0  0  0]\n"
          ]
        }
      ]
    },
    {
      "cell_type": "code",
      "source": [
        "from keras.models import Sequential\n",
        "from keras import layers \n",
        "from keras.callbacks import EarlyStopping\n",
        "\n",
        "from numpy.random import seed\n",
        "from tensorflow import random\n",
        "seed(1)\n",
        "random.set_seed(2)\n",
        "\n",
        "# definim modelul \n",
        "embedding_dim = 100\n",
        "model = Sequential()\n",
        "model.add(layers.Embedding(vocab_size, embedding_dim, input_length=maxlen))\n",
        "\n",
        "model.add(layers.Conv1D(64, 3, activation='relu'))\n",
        "model.add(layers.MaxPooling1D())\n",
        "\n",
        "model.add(layers.Conv1D(64, 5, activation='relu'))\n",
        "model.add(layers.MaxPooling1D())\n",
        "\n",
        "model.add(layers.GlobalAveragePooling1D())\n",
        "\n",
        "model.add(layers.Dense(32, activation='relu'))\n",
        "model.add(layers.Dense(6, activation='sigmoid'))\n",
        "\n",
        "model.compile(optimizer='adam',\n",
        "               loss='sparse_categorical_crossentropy',\n",
        "               metrics=['accuracy'])\n",
        "early_stop = EarlyStopping(monitor=\"val_loss\", mode=\"min\", verbose=1, patience=2)\n",
        "\n",
        "print(model.summary())"
      ],
      "metadata": {
        "id": "8X467Err18NC",
        "colab": {
          "base_uri": "https://localhost:8080/"
        },
        "outputId": "6f48df74-33d8-4c4f-dcd5-6c93a3719d91"
      },
      "execution_count": null,
      "outputs": [
        {
          "output_type": "stream",
          "name": "stdout",
          "text": [
            "Model: \"sequential_1\"\n",
            "_________________________________________________________________\n",
            " Layer (type)                Output Shape              Param #   \n",
            "=================================================================\n",
            " embedding_1 (Embedding)     (None, 300, 100)          610500    \n",
            "                                                                 \n",
            " conv1d_2 (Conv1D)           (None, 298, 64)           19264     \n",
            "                                                                 \n",
            " max_pooling1d_2 (MaxPooling  (None, 149, 64)          0         \n",
            " 1D)                                                             \n",
            "                                                                 \n",
            " conv1d_3 (Conv1D)           (None, 145, 64)           20544     \n",
            "                                                                 \n",
            " max_pooling1d_3 (MaxPooling  (None, 72, 64)           0         \n",
            " 1D)                                                             \n",
            "                                                                 \n",
            " global_average_pooling1d_1   (None, 64)               0         \n",
            " (GlobalAveragePooling1D)                                        \n",
            "                                                                 \n",
            " dense_2 (Dense)             (None, 32)                2080      \n",
            "                                                                 \n",
            " dense_3 (Dense)             (None, 6)                 198       \n",
            "                                                                 \n",
            "=================================================================\n",
            "Total params: 652,586\n",
            "Trainable params: 652,586\n",
            "Non-trainable params: 0\n",
            "_________________________________________________________________\n",
            "None\n"
          ]
        }
      ]
    },
    {
      "cell_type": "markdown",
      "source": [
        "Antrenam modelul mai intai pe varianta cu 5 clase: very good - 5, good - 4, neutral -3, bad - 2 si very bad - 1"
      ],
      "metadata": {
        "id": "51ONbACi3lJb"
      }
    },
    {
      "cell_type": "code",
      "source": [
        "# antrenam modelul\n",
        "model.fit(\n",
        "    x=train_data_tokenize,\n",
        "    y=train_labels,\n",
        "    batch_size=64,\n",
        "    epochs=50,\n",
        "    validation_data=(validation_data_tokenize, validation_labels),\n",
        "    verbose=1,\n",
        "    callbacks=early_stop\n",
        ")"
      ],
      "metadata": {
        "id": "dYc37Gr42jK_",
        "colab": {
          "base_uri": "https://localhost:8080/"
        },
        "outputId": "5aeaa6ee-7bcd-407a-9590-3e2cf8232e78"
      },
      "execution_count": null,
      "outputs": [
        {
          "output_type": "stream",
          "name": "stdout",
          "text": [
            "Epoch 1/50\n",
            "114/114 [==============================] - 14s 112ms/step - loss: 1.4277 - accuracy: 0.4954 - val_loss: 1.2940 - val_accuracy: 0.5116\n",
            "Epoch 2/50\n",
            "114/114 [==============================] - 12s 109ms/step - loss: 1.1906 - accuracy: 0.5228 - val_loss: 1.1200 - val_accuracy: 0.5733\n",
            "Epoch 3/50\n",
            "114/114 [==============================] - 12s 109ms/step - loss: 1.0176 - accuracy: 0.5882 - val_loss: 0.9994 - val_accuracy: 0.6097\n",
            "Epoch 4/50\n",
            "114/114 [==============================] - 12s 109ms/step - loss: 0.9472 - accuracy: 0.6119 - val_loss: 0.9658 - val_accuracy: 0.6152\n",
            "Epoch 5/50\n",
            "114/114 [==============================] - 13s 112ms/step - loss: 0.9145 - accuracy: 0.6206 - val_loss: 0.9478 - val_accuracy: 0.6251\n",
            "Epoch 6/50\n",
            "114/114 [==============================] - 12s 109ms/step - loss: 0.8941 - accuracy: 0.6302 - val_loss: 0.9400 - val_accuracy: 0.6163\n",
            "Epoch 7/50\n",
            "114/114 [==============================] - 12s 109ms/step - loss: 0.8769 - accuracy: 0.6378 - val_loss: 0.9380 - val_accuracy: 0.6262\n",
            "Epoch 8/50\n",
            "114/114 [==============================] - 12s 109ms/step - loss: 0.8611 - accuracy: 0.6451 - val_loss: 0.9392 - val_accuracy: 0.6196\n",
            "Epoch 9/50\n",
            "114/114 [==============================] - 12s 109ms/step - loss: 0.8502 - accuracy: 0.6517 - val_loss: 0.9392 - val_accuracy: 0.6218\n",
            "Epoch 9: early stopping\n"
          ]
        },
        {
          "output_type": "execute_result",
          "data": {
            "text/plain": [
              "<keras.callbacks.History at 0x7fb4cc8c0090>"
            ]
          },
          "metadata": {},
          "execution_count": 12
        }
      ]
    },
    {
      "cell_type": "code",
      "source": [
        "test_pred = np.argmax(model.predict(test_data_tokenize), axis=-1)"
      ],
      "metadata": {
        "id": "Fp5OxLVWZcX9"
      },
      "execution_count": null,
      "outputs": []
    },
    {
      "cell_type": "code",
      "source": [
        "import sklearn.metrics as metrics\n",
        "accuracy = metrics.accuracy_score(test_labels, test_pred)\n",
        "accuracy"
      ],
      "metadata": {
        "id": "ZUgmkA3sZm9Y",
        "colab": {
          "base_uri": "https://localhost:8080/"
        },
        "outputId": "a3c550d9-3be6-4209-9c35-847c2192d351"
      },
      "execution_count": null,
      "outputs": [
        {
          "output_type": "execute_result",
          "data": {
            "text/plain": [
              "0.5997794928335171"
            ]
          },
          "metadata": {},
          "execution_count": 14
        }
      ]
    },
    {
      "cell_type": "code",
      "source": [
        "print(metrics.classification_report(test_labels, test_pred))\n",
        "print(metrics.confusion_matrix(test_labels, test_pred))"
      ],
      "metadata": {
        "colab": {
          "base_uri": "https://localhost:8080/"
        },
        "id": "ZmP3pBu_yrX6",
        "outputId": "7d491994-7d4f-4b52-a13a-fcecb834f702"
      },
      "execution_count": null,
      "outputs": [
        {
          "output_type": "stream",
          "name": "stdout",
          "text": [
            "              precision    recall  f1-score   support\n",
            "\n",
            "           1       0.58      0.65      0.61       130\n",
            "           2       0.00      0.00      0.00        53\n",
            "           3       0.21      0.36      0.27        69\n",
            "           4       0.40      0.24      0.30       208\n",
            "           5       0.74      0.86      0.80       447\n",
            "\n",
            "    accuracy                           0.60       907\n",
            "   macro avg       0.39      0.42      0.39       907\n",
            "weighted avg       0.56      0.60      0.57       907\n",
            "\n",
            "[[ 85   0  28  10   7]\n",
            " [ 26   0  15   8   4]\n",
            " [ 17   0  25  13  14]\n",
            " [ 15   0  34  49 110]\n",
            " [  4   0  16  42 385]]\n"
          ]
        },
        {
          "output_type": "stream",
          "name": "stderr",
          "text": [
            "/usr/local/lib/python3.7/dist-packages/sklearn/metrics/_classification.py:1318: UndefinedMetricWarning: Precision and F-score are ill-defined and being set to 0.0 in labels with no predicted samples. Use `zero_division` parameter to control this behavior.\n",
            "  _warn_prf(average, modifier, msg_start, len(result))\n",
            "/usr/local/lib/python3.7/dist-packages/sklearn/metrics/_classification.py:1318: UndefinedMetricWarning: Precision and F-score are ill-defined and being set to 0.0 in labels with no predicted samples. Use `zero_division` parameter to control this behavior.\n",
            "  _warn_prf(average, modifier, msg_start, len(result))\n",
            "/usr/local/lib/python3.7/dist-packages/sklearn/metrics/_classification.py:1318: UndefinedMetricWarning: Precision and F-score are ill-defined and being set to 0.0 in labels with no predicted samples. Use `zero_division` parameter to control this behavior.\n",
            "  _warn_prf(average, modifier, msg_start, len(result))\n"
          ]
        }
      ]
    },
    {
      "cell_type": "code",
      "source": [
        "import seaborn as sns\n",
        "from matplotlib import pyplot as plt\n",
        "\n",
        "ax = sns.heatmap(metrics.confusion_matrix(test_labels, test_pred), annot=True, cmap='Blues')\n",
        "\n",
        "ax.set_title('Confusion Matrix \\n\\n');\n",
        "ax.set_xlabel('\\nPredicted Values')\n",
        "ax.set_ylabel('Actual Values ');\n",
        "\n",
        "plt.show()"
      ],
      "metadata": {
        "colab": {
          "base_uri": "https://localhost:8080/",
          "height": 337
        },
        "id": "HKwsotjilVJz",
        "outputId": "9e54ee8d-caf8-49f0-fb16-cb673c1bbd6a"
      },
      "execution_count": null,
      "outputs": [
        {
          "output_type": "display_data",
          "data": {
            "text/plain": [
              "<Figure size 432x288 with 2 Axes>"
            ],
            "image/png": "[encoded data removed]"
          },
          "metadata": {
            "needs_background": "light"
          }
        }
      ]
    },
    {
      "cell_type": "markdown",
      "source": [
        "Antrenam modelul pe varianta cu 3 clase: good - 5 si 4, neutral -3, bad - 2 si 1 "
      ],
      "metadata": {
        "id": "_y1d6OFa31At"
      }
    },
    {
      "cell_type": "code",
      "source": [
        "# antrenam modelul\n",
        "model.fit(\n",
        "    x=train_data_tokenize,\n",
        "    y=train_labels_group,\n",
        "    batch_size=64,\n",
        "    epochs=50,\n",
        "    validation_data=(validation_data_tokenize, validation_labels_group),\n",
        "    verbose=1,\n",
        "    callbacks=early_stop\n",
        ")"
      ],
      "metadata": {
        "colab": {
          "base_uri": "https://localhost:8080/"
        },
        "id": "-1BUbbyz3iK_",
        "outputId": "0b0055b9-b34b-4c51-969a-2d5a85fca63f"
      },
      "execution_count": null,
      "outputs": [
        {
          "output_type": "stream",
          "name": "stdout",
          "text": [
            "Epoch 1/50\n",
            "114/114 [==============================] - 13s 113ms/step - loss: 0.8998 - accuracy: 0.7072 - val_loss: 0.7465 - val_accuracy: 0.7266\n",
            "Epoch 2/50\n",
            "114/114 [==============================] - 12s 109ms/step - loss: 0.6599 - accuracy: 0.7502 - val_loss: 0.5893 - val_accuracy: 0.7795\n",
            "Epoch 3/50\n",
            "114/114 [==============================] - 12s 109ms/step - loss: 0.5179 - accuracy: 0.8042 - val_loss: 0.5268 - val_accuracy: 0.8214\n",
            "Epoch 4/50\n",
            "114/114 [==============================] - 12s 109ms/step - loss: 0.4583 - accuracy: 0.8237 - val_loss: 0.4966 - val_accuracy: 0.8225\n",
            "Epoch 5/50\n",
            "114/114 [==============================] - 12s 109ms/step - loss: 0.4277 - accuracy: 0.8294 - val_loss: 0.4733 - val_accuracy: 0.8335\n",
            "Epoch 6/50\n",
            "114/114 [==============================] - 13s 110ms/step - loss: 0.4116 - accuracy: 0.8384 - val_loss: 0.4856 - val_accuracy: 0.8346\n",
            "Epoch 7/50\n",
            "114/114 [==============================] - 12s 109ms/step - loss: 0.4003 - accuracy: 0.8405 - val_loss: 0.4740 - val_accuracy: 0.8335\n",
            "Epoch 7: early stopping\n"
          ]
        },
        {
          "output_type": "execute_result",
          "data": {
            "text/plain": [
              "<keras.callbacks.History at 0x7fb4c8629210>"
            ]
          },
          "metadata": {},
          "execution_count": 24
        }
      ]
    },
    {
      "cell_type": "code",
      "source": [
        "test_pred_group = np.argmax(model.predict(test_data_tokenize), axis=-1)"
      ],
      "metadata": {
        "id": "vO2JpaQE4FFm"
      },
      "execution_count": null,
      "outputs": []
    },
    {
      "cell_type": "code",
      "source": [
        "accuracy_group = metrics.accuracy_score(test_labels_group, test_pred_group)\n",
        "accuracy_group"
      ],
      "metadata": {
        "colab": {
          "base_uri": "https://localhost:8080/"
        },
        "id": "OWYG-4Sv4JqX",
        "outputId": "992c5b4b-3ad9-4f22-dcdc-cb16e879f199"
      },
      "execution_count": null,
      "outputs": [
        {
          "output_type": "execute_result",
          "data": {
            "text/plain": [
              "0.8357221609702316"
            ]
          },
          "metadata": {},
          "execution_count": 26
        }
      ]
    },
    {
      "cell_type": "code",
      "source": [
        "print(metrics.classification_report(test_labels_group, test_pred_group))\n",
        "print(metrics.confusion_matrix(test_labels_group, test_pred_group))"
      ],
      "metadata": {
        "colab": {
          "base_uri": "https://localhost:8080/"
        },
        "id": "zO7YmYXB4OXR",
        "outputId": "cc88f54b-0035-4f8a-83b2-6c39709107a3"
      },
      "execution_count": null,
      "outputs": [
        {
          "output_type": "stream",
          "name": "stdout",
          "text": [
            "              precision    recall  f1-score   support\n",
            "\n",
            "           1       0.68      0.77      0.72       183\n",
            "           2       0.17      0.01      0.03        69\n",
            "           3       0.89      0.94      0.91       655\n",
            "\n",
            "    accuracy                           0.84       907\n",
            "   macro avg       0.58      0.57      0.55       907\n",
            "weighted avg       0.79      0.84      0.81       907\n",
            "\n",
            "[[140   3  40]\n",
            " [ 30   1  38]\n",
            " [ 36   2 617]]\n"
          ]
        }
      ]
    },
    {
      "cell_type": "code",
      "source": [
        "ax = sns.heatmap(metrics.confusion_matrix(test_labels_group, test_pred_group), annot=True, cmap='Blues')\n",
        "\n",
        "ax.set_title('Confusion Matrix \\n\\n');\n",
        "ax.set_xlabel('\\nPredicted Values')\n",
        "ax.set_ylabel('Actual Values ');\n",
        "\n",
        "plt.show()"
      ],
      "metadata": {
        "colab": {
          "base_uri": "https://localhost:8080/",
          "height": 337
        },
        "id": "zjYwBjYkmpOg",
        "outputId": "7165f751-e4cb-40d1-efc5-453f82a6c776"
      },
      "execution_count": null,
      "outputs": [
        {
          "output_type": "display_data",
          "data": {
            "text/plain": [
              "<Figure size 432x288 with 2 Axes>"
            ],
            "image/png": "[encoded data removed]"
          },
          "metadata": {
            "needs_background": "light"
          }
        }
      ]
    }
  ]
}