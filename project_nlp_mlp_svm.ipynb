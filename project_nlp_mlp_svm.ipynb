{
  "nbformat": 4,
  "nbformat_minor": 0,
  "metadata": {
    "colab": {
      "name": "proiect_nlp_mlp.ipynb",
      "provenance": []
    },
    "kernelspec": {
      "name": "python3",
      "display_name": "Python 3"
    },
    "language_info": {
      "name": "python"
    }
  },
  "cells": [
    {
      "cell_type": "code",
      "source": [
        "! pip install emoji"
      ],
      "metadata": {
        "colab": {
          "base_uri": "https://localhost:8080/"
        },
        "id": "fuocGju0TSR9",
        "outputId": "5d044129-2c3d-4978-9f3f-bf5606fe1e41"
      },
      "execution_count": null,
      "outputs": [
        {
          "output_type": "stream",
          "name": "stdout",
          "text": [
            "Requirement already satisfied: emoji in /usr/local/lib/python3.7/dist-packages (1.7.0)\n"
          ]
        }
      ]
    },
    {
      "cell_type": "code",
      "source": [
        "! pip install --upgrade spacy\n",
        "! python -m spacy download en_core_web_md"
      ],
      "metadata": {
        "colab": {
          "base_uri": "https://localhost:8080/"
        },
        "id": "L3XssZek_aML",
        "outputId": "65cecb9a-9071-4862-e0fb-684efcef037d"
      },
      "execution_count": null,
      "outputs": [
        {
          "output_type": "stream",
          "name": "stdout",
          "text": [
            "Requirement already satisfied: spacy in /usr/local/lib/python3.7/dist-packages (3.2.4)\n",
            "Requirement already satisfied: thinc<8.1.0,>=8.0.12 in /usr/local/lib/python3.7/dist-packages (from spacy) (8.0.15)\n",
            "Requirement already satisfied: catalogue<2.1.0,>=2.0.6 in /usr/local/lib/python3.7/dist-packages (from spacy) (2.0.7)\n",
            "Requirement already satisfied: cymem<2.1.0,>=2.0.2 in /usr/local/lib/python3.7/dist-packages (from spacy) (2.0.6)\n",
            "Requirement already satisfied: jinja2 in /usr/local/lib/python3.7/dist-packages (from spacy) (2.11.3)\n",
            "Requirement already satisfied: preshed<3.1.0,>=3.0.2 in /usr/local/lib/python3.7/dist-packages (from spacy) (3.0.6)\n",
            "Requirement already satisfied: spacy-legacy<3.1.0,>=3.0.8 in /usr/local/lib/python3.7/dist-packages (from spacy) (3.0.9)\n",
            "Requirement already satisfied: numpy>=1.15.0 in /usr/local/lib/python3.7/dist-packages (from spacy) (1.21.6)\n",
            "Requirement already satisfied: packaging>=20.0 in /usr/local/lib/python3.7/dist-packages (from spacy) (21.3)\n",
            "Requirement already satisfied: wasabi<1.1.0,>=0.8.1 in /usr/local/lib/python3.7/dist-packages (from spacy) (0.9.1)\n",
            "Requirement already satisfied: typer<0.5.0,>=0.3.0 in /usr/local/lib/python3.7/dist-packages (from spacy) (0.4.1)\n",
            "Requirement already satisfied: spacy-loggers<2.0.0,>=1.0.0 in /usr/local/lib/python3.7/dist-packages (from spacy) (1.0.2)\n",
            "Requirement already satisfied: blis<0.8.0,>=0.4.0 in /usr/local/lib/python3.7/dist-packages (from spacy) (0.4.1)\n",
            "Requirement already satisfied: click<8.1.0 in /usr/local/lib/python3.7/dist-packages (from spacy) (7.1.2)\n",
            "Requirement already satisfied: srsly<3.0.0,>=2.4.1 in /usr/local/lib/python3.7/dist-packages (from spacy) (2.4.3)\n",
            "Requirement already satisfied: tqdm<5.0.0,>=4.38.0 in /usr/local/lib/python3.7/dist-packages (from spacy) (4.64.0)\n",
            "Requirement already satisfied: murmurhash<1.1.0,>=0.28.0 in /usr/local/lib/python3.7/dist-packages (from spacy) (1.0.6)\n",
            "Requirement already satisfied: pydantic!=1.8,!=1.8.1,<1.9.0,>=1.7.4 in /usr/local/lib/python3.7/dist-packages (from spacy) (1.8.2)\n",
            "Requirement already satisfied: typing-extensions<4.0.0.0,>=3.7.4 in /usr/local/lib/python3.7/dist-packages (from spacy) (3.10.0.2)\n",
            "Requirement already satisfied: setuptools in /usr/local/lib/python3.7/dist-packages (from spacy) (57.4.0)\n",
            "Requirement already satisfied: requests<3.0.0,>=2.13.0 in /usr/local/lib/python3.7/dist-packages (from spacy) (2.23.0)\n",
            "Requirement already satisfied: pathy>=0.3.5 in /usr/local/lib/python3.7/dist-packages (from spacy) (0.6.1)\n",
            "Requirement already satisfied: langcodes<4.0.0,>=3.2.0 in /usr/local/lib/python3.7/dist-packages (from spacy) (3.3.0)\n",
            "Requirement already satisfied: zipp>=0.5 in /usr/local/lib/python3.7/dist-packages (from catalogue<2.1.0,>=2.0.6->spacy) (3.8.0)\n",
            "Requirement already satisfied: pyparsing!=3.0.5,>=2.0.2 in /usr/local/lib/python3.7/dist-packages (from packaging>=20.0->spacy) (3.0.8)\n",
            "Requirement already satisfied: smart-open<6.0.0,>=5.0.0 in /usr/local/lib/python3.7/dist-packages (from pathy>=0.3.5->spacy) (5.2.1)\n",
            "Requirement already satisfied: idna<3,>=2.5 in /usr/local/lib/python3.7/dist-packages (from requests<3.0.0,>=2.13.0->spacy) (2.10)\n",
            "Requirement already satisfied: certifi>=2017.4.17 in /usr/local/lib/python3.7/dist-packages (from requests<3.0.0,>=2.13.0->spacy) (2021.10.8)\n",
            "Requirement already satisfied: chardet<4,>=3.0.2 in /usr/local/lib/python3.7/dist-packages (from requests<3.0.0,>=2.13.0->spacy) (3.0.4)\n",
            "Requirement already satisfied: urllib3!=1.25.0,!=1.25.1,<1.26,>=1.21.1 in /usr/local/lib/python3.7/dist-packages (from requests<3.0.0,>=2.13.0->spacy) (1.24.3)\n",
            "Requirement already satisfied: MarkupSafe>=0.23 in /usr/local/lib/python3.7/dist-packages (from jinja2->spacy) (2.0.1)\n",
            "Collecting en-core-web-md==3.2.0\n",
            "  Downloading https://github.com/explosion/spacy-models/releases/download/en_core_web_md-3.2.0/en_core_web_md-3.2.0-py3-none-any.whl (45.7 MB)\n",
            "\u001b[K     |████████████████████████████████| 45.7 MB 60 kB/s \n",
            "\u001b[?25hRequirement already satisfied: spacy<3.3.0,>=3.2.0 in /usr/local/lib/python3.7/dist-packages (from en-core-web-md==3.2.0) (3.2.4)\n",
            "Requirement already satisfied: spacy-loggers<2.0.0,>=1.0.0 in /usr/local/lib/python3.7/dist-packages (from spacy<3.3.0,>=3.2.0->en-core-web-md==3.2.0) (1.0.2)\n",
            "Requirement already satisfied: pathy>=0.3.5 in /usr/local/lib/python3.7/dist-packages (from spacy<3.3.0,>=3.2.0->en-core-web-md==3.2.0) (0.6.1)\n",
            "Requirement already satisfied: srsly<3.0.0,>=2.4.1 in /usr/local/lib/python3.7/dist-packages (from spacy<3.3.0,>=3.2.0->en-core-web-md==3.2.0) (2.4.3)\n",
            "Requirement already satisfied: tqdm<5.0.0,>=4.38.0 in /usr/local/lib/python3.7/dist-packages (from spacy<3.3.0,>=3.2.0->en-core-web-md==3.2.0) (4.64.0)\n",
            "Requirement already satisfied: packaging>=20.0 in /usr/local/lib/python3.7/dist-packages (from spacy<3.3.0,>=3.2.0->en-core-web-md==3.2.0) (21.3)\n",
            "Requirement already satisfied: spacy-legacy<3.1.0,>=3.0.8 in /usr/local/lib/python3.7/dist-packages (from spacy<3.3.0,>=3.2.0->en-core-web-md==3.2.0) (3.0.9)\n",
            "Requirement already satisfied: click<8.1.0 in /usr/local/lib/python3.7/dist-packages (from spacy<3.3.0,>=3.2.0->en-core-web-md==3.2.0) (7.1.2)\n",
            "Requirement already satisfied: typer<0.5.0,>=0.3.0 in /usr/local/lib/python3.7/dist-packages (from spacy<3.3.0,>=3.2.0->en-core-web-md==3.2.0) (0.4.1)\n",
            "Requirement already satisfied: wasabi<1.1.0,>=0.8.1 in /usr/local/lib/python3.7/dist-packages (from spacy<3.3.0,>=3.2.0->en-core-web-md==3.2.0) (0.9.1)\n",
            "Requirement already satisfied: thinc<8.1.0,>=8.0.12 in /usr/local/lib/python3.7/dist-packages (from spacy<3.3.0,>=3.2.0->en-core-web-md==3.2.0) (8.0.15)\n",
            "Requirement already satisfied: blis<0.8.0,>=0.4.0 in /usr/local/lib/python3.7/dist-packages (from spacy<3.3.0,>=3.2.0->en-core-web-md==3.2.0) (0.4.1)\n",
            "Requirement already satisfied: requests<3.0.0,>=2.13.0 in /usr/local/lib/python3.7/dist-packages (from spacy<3.3.0,>=3.2.0->en-core-web-md==3.2.0) (2.23.0)\n",
            "Requirement already satisfied: preshed<3.1.0,>=3.0.2 in /usr/local/lib/python3.7/dist-packages (from spacy<3.3.0,>=3.2.0->en-core-web-md==3.2.0) (3.0.6)\n",
            "Requirement already satisfied: cymem<2.1.0,>=2.0.2 in /usr/local/lib/python3.7/dist-packages (from spacy<3.3.0,>=3.2.0->en-core-web-md==3.2.0) (2.0.6)\n",
            "Requirement already satisfied: murmurhash<1.1.0,>=0.28.0 in /usr/local/lib/python3.7/dist-packages (from spacy<3.3.0,>=3.2.0->en-core-web-md==3.2.0) (1.0.6)\n",
            "Requirement already satisfied: setuptools in /usr/local/lib/python3.7/dist-packages (from spacy<3.3.0,>=3.2.0->en-core-web-md==3.2.0) (57.4.0)\n",
            "Requirement already satisfied: numpy>=1.15.0 in /usr/local/lib/python3.7/dist-packages (from spacy<3.3.0,>=3.2.0->en-core-web-md==3.2.0) (1.21.6)\n",
            "Requirement already satisfied: pydantic!=1.8,!=1.8.1,<1.9.0,>=1.7.4 in /usr/local/lib/python3.7/dist-packages (from spacy<3.3.0,>=3.2.0->en-core-web-md==3.2.0) (1.8.2)\n",
            "Requirement already satisfied: catalogue<2.1.0,>=2.0.6 in /usr/local/lib/python3.7/dist-packages (from spacy<3.3.0,>=3.2.0->en-core-web-md==3.2.0) (2.0.7)\n",
            "Requirement already satisfied: typing-extensions<4.0.0.0,>=3.7.4 in /usr/local/lib/python3.7/dist-packages (from spacy<3.3.0,>=3.2.0->en-core-web-md==3.2.0) (3.10.0.2)\n",
            "Requirement already satisfied: langcodes<4.0.0,>=3.2.0 in /usr/local/lib/python3.7/dist-packages (from spacy<3.3.0,>=3.2.0->en-core-web-md==3.2.0) (3.3.0)\n",
            "Requirement already satisfied: jinja2 in /usr/local/lib/python3.7/dist-packages (from spacy<3.3.0,>=3.2.0->en-core-web-md==3.2.0) (2.11.3)\n",
            "Requirement already satisfied: zipp>=0.5 in /usr/local/lib/python3.7/dist-packages (from catalogue<2.1.0,>=2.0.6->spacy<3.3.0,>=3.2.0->en-core-web-md==3.2.0) (3.8.0)\n",
            "Requirement already satisfied: pyparsing!=3.0.5,>=2.0.2 in /usr/local/lib/python3.7/dist-packages (from packaging>=20.0->spacy<3.3.0,>=3.2.0->en-core-web-md==3.2.0) (3.0.8)\n",
            "Requirement already satisfied: smart-open<6.0.0,>=5.0.0 in /usr/local/lib/python3.7/dist-packages (from pathy>=0.3.5->spacy<3.3.0,>=3.2.0->en-core-web-md==3.2.0) (5.2.1)\n",
            "Requirement already satisfied: urllib3!=1.25.0,!=1.25.1,<1.26,>=1.21.1 in /usr/local/lib/python3.7/dist-packages (from requests<3.0.0,>=2.13.0->spacy<3.3.0,>=3.2.0->en-core-web-md==3.2.0) (1.24.3)\n",
            "Requirement already satisfied: chardet<4,>=3.0.2 in /usr/local/lib/python3.7/dist-packages (from requests<3.0.0,>=2.13.0->spacy<3.3.0,>=3.2.0->en-core-web-md==3.2.0) (3.0.4)\n",
            "Requirement already satisfied: certifi>=2017.4.17 in /usr/local/lib/python3.7/dist-packages (from requests<3.0.0,>=2.13.0->spacy<3.3.0,>=3.2.0->en-core-web-md==3.2.0) (2021.10.8)\n",
            "Requirement already satisfied: idna<3,>=2.5 in /usr/local/lib/python3.7/dist-packages (from requests<3.0.0,>=2.13.0->spacy<3.3.0,>=3.2.0->en-core-web-md==3.2.0) (2.10)\n",
            "Requirement already satisfied: MarkupSafe>=0.23 in /usr/local/lib/python3.7/dist-packages (from jinja2->spacy<3.3.0,>=3.2.0->en-core-web-md==3.2.0) (2.0.1)\n",
            "\u001b[38;5;2m✔ Download and installation successful\u001b[0m\n",
            "You can now load the package via spacy.load('en_core_web_md')\n"
          ]
        }
      ]
    },
    {
      "cell_type": "code",
      "source": [
        "import json\n",
        "import numpy\n",
        "import re\n",
        "import emoji\n",
        "\n",
        "from sklearn.feature_extraction.text import CountVectorizer\n",
        "from sklearn import preprocessing\n",
        "from sklearn.model_selection import train_test_split\n",
        "from sklearn.neural_network import MLPClassifier\n",
        "from sklearn.svm import SVC\n",
        "from sklearn import metrics\n",
        "import seaborn as sns\n",
        "from matplotlib import pyplot as plt\n",
        "\n",
        "import spacy\n",
        "nlp = spacy.load('en_core_web_md')"
      ],
      "metadata": {
        "id": "ELR8JWcQ5wLJ"
      },
      "execution_count": null,
      "outputs": []
    },
    {
      "cell_type": "code",
      "source": [
        "import nltk\n",
        "nltk.download('stopwords')"
      ],
      "metadata": {
        "colab": {
          "base_uri": "https://localhost:8080/"
        },
        "id": "szmUx0qhAk2j",
        "outputId": "b2bb6de6-8cfe-4514-e3a1-4f6d82259d28"
      },
      "execution_count": null,
      "outputs": [
        {
          "output_type": "stream",
          "name": "stdout",
          "text": [
            "[nltk_data] Downloading package stopwords to /root/nltk_data...\n",
            "[nltk_data]   Package stopwords is already up-to-date!\n"
          ]
        },
        {
          "output_type": "execute_result",
          "data": {
            "text/plain": [
              "True"
            ]
          },
          "metadata": {},
          "execution_count": 4
        }
      ]
    },
    {
      "cell_type": "code",
      "source": [
        "from nltk.corpus import stopwords\n",
        "stopwords_nltk = stopwords.words('english')\n",
        "print(\"nltk stopwords:\", len(stopwords_nltk))\n",
        "print(sorted(stopwords_nltk))\n",
        "\n",
        "kept_stopwords = ['aren', \"aren't\", 't', 'but', 'couldn', \"couldn't\", 'didn', \"didn't\", 'doesn', \"doesn't\", 'don', \"don't\",\n",
        "                  'do', 'not', 'hadn', \"hadn't\", 'hasn', \"hasn't\", 'haven', \"haven't\", 'isn', \"isn't\", 'no', 'wasn', \"wasn't\",\n",
        "                  'weren', \"weren't\", 'won', \"won't\", 'wouldn', \"wouldn't\", 'be', 'will', 'have']\n",
        "\n",
        "stopwords = [stopword for stopword in stopwords_nltk if stopword not in kept_stopwords]\n",
        "print(\"\\nkept:\", len(stopwords))"
      ],
      "metadata": {
        "colab": {
          "base_uri": "https://localhost:8080/"
        },
        "id": "2NcqGmyJokyh",
        "outputId": "e0cd1a9d-8027-48f1-fcfa-5a0da99903eb"
      },
      "execution_count": null,
      "outputs": [
        {
          "output_type": "stream",
          "name": "stdout",
          "text": [
            "nltk stopwords: 179\n",
            "['a', 'about', 'above', 'after', 'again', 'against', 'ain', 'all', 'am', 'an', 'and', 'any', 'are', 'aren', \"aren't\", 'as', 'at', 'be', 'because', 'been', 'before', 'being', 'below', 'between', 'both', 'but', 'by', 'can', 'couldn', \"couldn't\", 'd', 'did', 'didn', \"didn't\", 'do', 'does', 'doesn', \"doesn't\", 'doing', 'don', \"don't\", 'down', 'during', 'each', 'few', 'for', 'from', 'further', 'had', 'hadn', \"hadn't\", 'has', 'hasn', \"hasn't\", 'have', 'haven', \"haven't\", 'having', 'he', 'her', 'here', 'hers', 'herself', 'him', 'himself', 'his', 'how', 'i', 'if', 'in', 'into', 'is', 'isn', \"isn't\", 'it', \"it's\", 'its', 'itself', 'just', 'll', 'm', 'ma', 'me', 'mightn', \"mightn't\", 'more', 'most', 'mustn', \"mustn't\", 'my', 'myself', 'needn', \"needn't\", 'no', 'nor', 'not', 'now', 'o', 'of', 'off', 'on', 'once', 'only', 'or', 'other', 'our', 'ours', 'ourselves', 'out', 'over', 'own', 're', 's', 'same', 'shan', \"shan't\", 'she', \"she's\", 'should', \"should've\", 'shouldn', \"shouldn't\", 'so', 'some', 'such', 't', 'than', 'that', \"that'll\", 'the', 'their', 'theirs', 'them', 'themselves', 'then', 'there', 'these', 'they', 'this', 'those', 'through', 'to', 'too', 'under', 'until', 'up', 've', 'very', 'was', 'wasn', \"wasn't\", 'we', 'were', 'weren', \"weren't\", 'what', 'when', 'where', 'which', 'while', 'who', 'whom', 'why', 'will', 'with', 'won', \"won't\", 'wouldn', \"wouldn't\", 'y', 'you', \"you'd\", \"you'll\", \"you're\", \"you've\", 'your', 'yours', 'yourself', 'yourselves']\n",
            "\n",
            "kept: 145\n"
          ]
        }
      ]
    },
    {
      "cell_type": "code",
      "source": [
        "from google.colab import drive\n",
        "drive.mount('/content/gdrive', force_remount=True)\n",
        "% cd gdrive/MyDrive/Laborator - NLP/Proiect"
      ],
      "metadata": {
        "colab": {
          "base_uri": "https://localhost:8080/"
        },
        "id": "ycaqd8Tz5dm9",
        "outputId": "d200304f-1c1e-41ed-affb-f49162bfd4a5"
      },
      "execution_count": null,
      "outputs": [
        {
          "output_type": "stream",
          "name": "stdout",
          "text": [
            "Mounted at /content/gdrive\n",
            "/content/gdrive/MyDrive/Laborator - NLP/Proiect\n"
          ]
        }
      ]
    },
    {
      "cell_type": "code",
      "source": [
        "with open(\"amazon_one_plus_reviews.json\", \"r\") as f:\n",
        "    all_reviews = json.load(f) # lista de dictionare\n",
        "\n",
        "products = ['OnePlus Nord 5G (Gray Onyx, 8GB RAM, 128GB Storage)',\n",
        "            'Redmi Note 8 (Neptune Blue, 4GB RAM, 64GB Storage)',\n",
        "            'Redmi Note 9 Pro (Aurora Blue, 4GB RAM, 64GB Storage) - Latest 8nm Snapdragon 720G & Alexa Hands-Free | 6 Months No Cost EMI']\n",
        "reviews = []\n",
        "for review in all_reviews:\n",
        "  if review[\"product\"] == products[0]:\n",
        "    reviews.append(review)\n",
        "\n",
        "# 'product': 'Apple iPhone XR (64GB) - Black' - foarte dezechilibrat\n",
        "# unique reviews: 4693\n",
        "# very_bad: 313\n",
        "# bad: 87\n",
        "# neutral: 149\n",
        "# good: 672\n",
        "# very good: 3472\n",
        "\n",
        "#'product': 'OnePlus Nord 5G (Gray Onyx, 8GB RAM, 128GB Storage)'\n",
        "# unique reviews: 9067\n",
        "# very_bad: 1181\n",
        "# bad: 456\n",
        "# neutral: 913\n",
        "# good: 1959\n",
        "# very good: 4558\n",
        "\n",
        "#'product': 'Redmi Note 8 (Neptune Blue, 4GB RAM, 64GB Storage)' - dezechilibrat\n",
        "# unique reviews: 12914\n",
        "# very_bad: 39\n",
        "# bad: 1085\n",
        "# neutral: 2404\n",
        "# good: 4608\n",
        "# very good: 4778\n",
        "\n",
        "# 'product': 'Redmi Note 9 Pro (Aurora Blue, 4GB RAM, 64GB Storage)\n",
        "# reviews: 6692\n",
        "# very_bad: 827\n",
        "# bad: 209\n",
        "# neutral: 486\n",
        "# good: 1338\n",
        "# very good: 3832\n"
      ],
      "metadata": {
        "id": "riH-7jQ7AL-Z"
      },
      "execution_count": null,
      "outputs": []
    },
    {
      "cell_type": "code",
      "execution_count": null,
      "metadata": {
        "colab": {
          "base_uri": "https://localhost:8080/"
        },
        "id": "AZ6WCY5E3qL8",
        "outputId": "e10385d4-1ffc-4ea3-ac77-30fd0c479794"
      },
      "outputs": [
        {
          "output_type": "stream",
          "name": "stdout",
          "text": [
            "number of reviews: 9469\n",
            "{'product': 'OnePlus Nord 5G (Gray Onyx, 8GB RAM, 128GB Storage)', 'product_company': 'OnePlus', 'profile_name': 'Nikhil', 'review_title': '*Read before you buy!!*', 'review_rating': '5.0 out of 5 stars', 'review_text': '\\n  Yea..pre-ordered on 28 July, got it on 4 August. Package was nice without any damage. So here is my first impression:', 'helpful_count': '721 people found this helpful', 'total_comments': 3, 'review_country': ' India ', 'reviewed_at': ' 4 August 2020', 'url': 'https://www.amazon.in/product-reviews/B08695ZSP6/ref=acr_dp_hist_5?ie=UTF8&filterByStar=five_star&reviewerType=all_reviews', 'crawled_at': 1603020227000.0, '_id': '45ca015a-2e39-5650-a174-ba966dd1e51f', 'verified_purchase': 'Verified Purchase', 'color': ' Marble Blue', 'style_name': ' 8GB RAM + 128GB Storage', 'size_name': 'na', 'category': 'electronics', 'sub_category': 'mobiles', 'images': ['https://images-na.ssl-images-amazon.com/images/I/61ndxFHkwfL._SY88.jpg', 'https://images-na.ssl-images-amazon.com/images/I/71HtOORXvcL._SY88.jpg']}\n",
            "unique reviews: 9067\n",
            "very_bad: 1181\n",
            "bad: 456\n",
            "neutral: 913\n",
            "good: 1959\n",
            "very good: 4558\n"
          ]
        },
        {
          "output_type": "execute_result",
          "data": {
            "text/plain": [
              "['*Read before you buy!!* \\n  Yea..pre-ordered on 28 July, got it on 4 August. Package was nice without any damage. So here is my first impression:',\n",
              " 'Near to mid range  Perfection \\n  Got it delivered yesterday , used for about 5-6 hours , to tell you this is my first mid ranger previously I was using s9 plus , before that s7 edge and iphones in stone age .',\n",
              " 'Great price! \\n  An amazing phone!',\n",
              " 'Beast in OnePlus. \\n  Brilliant..',\n",
              " \"Changed to Nord from 6t \\n  I was skeptical about changing from One plus 6t to Nord as 845 still have more processing power than 765 and 5G won't be available in India for next 2 years, Nord has gorilla glass 5, whereas OP6t had Gorilla glass 6.\",\n",
              " 'Auto call recorder not available \\n  Where is call recording option\\n',\n",
              " 'OnePlus NORD detailed review. \\n  So I pre ordered this phone on 28th of July and I got this on 3rd August.... Thank you Amazon for faster delivery ...',\n",
              " \"Worth every penny & please don't buy Oppo Reno 4 \\n  Hey Guys i won't go in Specs details as you are not reading this to read the specs. I got it on 2nd August and after more than 24 hours of use i can say my decision and wait was all worth it.\",\n",
              " 'Super hit \\n  In love with the camera quality and the color of the phone. Works smoothly. Impressed!!',\n",
              " \"Its a good set \\n  I always want a oneplus mobile now I have one it's a good mobile\\n\",\n",
              " \"WORTH THE BUCKS \\n  First things first I'm very impressed by the AMAZON delivery services.\",\n",
              " 'One plus and plus...NORD ! \\n  It was a big jump for me from budget phone to One plus Nord! I was skeptical before buying such high price phone and that too without any discount (I bought during Amzon pre-order period, as it has to be gifted to my wife, 8/128 INR 27999/-).  But after I open the pack I felt relived. Build quality is superb and feels solid. Photo quality is plus plus...I took some photos in dark and they were crisp and clear. Colours of photos looks natural and attractive!',\n",
              " \"Unexpected Delivery 🤘 \\n  It's delivered today (3rd August)\",\n",
              " 'OnePlus nord \\n  Just received OnePlus Nord grey 256 gb variant and trust me guys it is just amazing,worth every rupees.\\n',\n",
              " \"Amazing beast from OnePlus!!! \\n  So I suppose I'm the first one to receive this beast from Amazon. Arrived damn early then expected!!!!\"]"
            ]
          },
          "metadata": {},
          "execution_count": 8
        }
      ],
      "source": [
        "print(\"number of reviews:\", len(reviews))\n",
        "print(reviews[0])\n",
        "\n",
        "opinions = [\"Very Bad\", \"Bad\", \"Neutral\", \"Good\", \"Very Good\"]\n",
        "\n",
        "labels = []\n",
        "labels_fewer = []\n",
        "texts = []\n",
        "\n",
        "very_bad = 0\n",
        "bad = 0\n",
        "neutral = 0\n",
        "good = 0\n",
        "very_good = 0\n",
        "\n",
        "for review in reviews:\n",
        "  text = review['review_title'] + ' ' + review['review_text']\n",
        "  if text not in texts:\n",
        "    texts.append(text)\n",
        "    stars = int(float(review['review_rating'][0:3]))\n",
        "    labels.append(opinions[stars-1])\n",
        "    if stars < 3: labels_fewer.append('bad')\n",
        "    elif stars > 3: labels_fewer.append('good')\n",
        "    else: labels_fewer.append('neutral')\n",
        "\n",
        "    if stars == 1: very_bad += 1\n",
        "    if stars == 2: bad += 1\n",
        "    if stars == 3: neutral += 1\n",
        "    if stars == 4: good += 1\n",
        "    if stars == 5: very_good += 1\n",
        "\n",
        "labels = numpy.array(labels)\n",
        "\n",
        "print(\"unique reviews:\", len(texts))\n",
        "#print(len(labels))\n",
        "print(\"very_bad:\", very_bad)\n",
        "print(\"bad:\", bad)\n",
        "print(\"neutral:\", neutral)\n",
        "print(\"good:\", good)\n",
        "print(\"very good:\", very_good)\n",
        "\n",
        "texts[0:15]"
      ]
    },
    {
      "cell_type": "code",
      "source": [
        "def preprocesare(text):\n",
        "  text = emoji.replace_emoji(text, replace=' ') # elimina emoji-urile\n",
        "\n",
        "  text = text.lower()\n",
        "  text = re.sub(r'\\Wwww\\S+|\\Whttp\\S+', ' ', text) # elimina link-urile\n",
        "  text = re.sub(r'[#@]\\S+', ' ', text) # elimina hashtag-urile si mentiunile\n",
        "  text = re.sub(r'\\d+', ' ', text) # elimina numerele\n",
        "\n",
        "  text = re.sub(r\"\\s[’']|[’']\\s\", ' ', text) # inlocuieste ’ si ' care nu sunt in interiorul cuvintelor cu spatiu\n",
        "  text = re.sub(r\"[’']\", '', text) # inlocuieste ’ si ' care sunt in interiorul cuvintelor cu sirul vid\n",
        "  text = re.sub(r\"[^\\w\\s]\", ' ', text) # elimina restul punctuatiei\n",
        "\n",
        "  text = re.sub(r'\\s+', ' ', text) # contractam spatiile\n",
        "  text = re.sub(r'^\\s', '', text)\n",
        "\n",
        "  return text\n",
        "\n",
        "\n",
        "def tokenizare(text):\n",
        "  tokens = nlp(text)\n",
        "  tokens_without_stopwords = [token for token in tokens if token.text not in stopwords]\n",
        "  lemmas = [token.lemma_ for token in tokens_without_stopwords]\n",
        "  return lemmas"
      ],
      "metadata": {
        "id": "dX2GmbrqPmXy"
      },
      "execution_count": null,
      "outputs": []
    },
    {
      "cell_type": "code",
      "source": [
        "# testing ~ 1 minut\n",
        "cleaned_texts = [preprocesare(text) for text in texts]\n",
        "text_tokens = [tokenizare(text) for text in cleaned_texts]\n",
        "\n",
        "n = 0\n",
        "for tokens in text_tokens:\n",
        "  n += len(tokens)\n",
        "\n",
        "print('no. of tokens =', n)\n",
        "print(text_tokens[0:10]), print('\\n')\n",
        "\n",
        "cleaned_texts[0:15]"
      ],
      "metadata": {
        "colab": {
          "base_uri": "https://localhost:8080/"
        },
        "id": "vavanwhIQMVa",
        "outputId": "1ea54cc9-630e-4d43-d34e-b6ab0ae7b491"
      },
      "execution_count": null,
      "outputs": [
        {
          "output_type": "stream",
          "name": "stdout",
          "text": [
            "no. of tokens = 115379\n",
            "[['read', 'buy', 'yea', 'pre', 'order', 'july', 'get', 'august', 'package', 'nice', 'without', 'damage', 'first', 'impression'], ['near', 'mid', 'range', 'perfection', 'get', 'deliver', 'yesterday', 'use', 'hour', 'tell', 'first', 'mid', 'ranger', 'previously', 'use', 'plus', 'edge', 'iphone', 'stone', 'age'], ['great', 'price', 'amazing', 'phone'], ['beast', 'oneplus', 'brilliant'], ['change', 'nord', 't', 'skeptical', 'change', 'one', 'plus', 't', 'nord', 'still', 'have', 'processing', 'power', 'g', 'will', 'not', 'be', 'available', 'india', 'next', 'year', 'nord', 'gorilla', 'glass', 'whereas', 'op', 't', 'gorilla', 'glass'], ['auto', 'call', 'recorder', 'not', 'available', 'call', 'recording', 'option'], ['oneplus', 'nord', 'detail', 'review', 'pre', 'order', 'phone', 'th', 'july', 'get', 'rd', 'august', 'thank', 'amazon', 'fast', 'delivery'], ['worth', 'every', 'penny', 'please', 'do', 'not', 'buy', 'oppo', 'reno', 'hey', 'guy', 'will', 'not', 'go', 'specs', 'detail', 'not', 'read', 'read', 'spec', 'get', 'nd', 'august', 'hour', 'use', 'say', 'decision', 'wait', 'worth'], ['super', 'hit', 'love', 'camera', 'quality', 'color', 'phone', 'work', 'smoothly', 'impress'], ['good', 'set', 'always', 'want', 'oneplus', 'mobile', 'have', 'one', 'good', 'mobile']]\n",
            "\n",
            "\n"
          ]
        },
        {
          "output_type": "execute_result",
          "data": {
            "text/plain": [
              "['read before you buy yea pre ordered on july got it on august package was nice without any damage so here is my first impression ',\n",
              " 'near to mid range perfection got it delivered yesterday used for about hours to tell you this is my first mid ranger previously i was using s plus before that s edge and iphones in stone age ',\n",
              " 'great price an amazing phone ',\n",
              " 'beast in oneplus brilliant ',\n",
              " 'changed to nord from t i was skeptical about changing from one plus t to nord as still have more processing power than and g wont be available in india for next years nord has gorilla glass whereas op t had gorilla glass ',\n",
              " 'auto call recorder not available where is call recording option ',\n",
              " 'oneplus nord detailed review so i pre ordered this phone on th of july and i got this on rd august thank you amazon for faster delivery ',\n",
              " 'worth every penny please dont buy oppo reno hey guys i wont go in specs details as you are not reading this to read the specs i got it on nd august and after more than hours of use i can say my decision and wait was all worth it ',\n",
              " 'super hit in love with the camera quality and the color of the phone works smoothly impressed ',\n",
              " 'its a good set i always want a oneplus mobile now i have one its a good mobile ',\n",
              " 'worth the bucks first things first im very impressed by the amazon delivery services ',\n",
              " 'one plus and plus nord it was a big jump for me from budget phone to one plus nord i was skeptical before buying such high price phone and that too without any discount i bought during amzon pre order period as it has to be gifted to my wife inr but after i open the pack i felt relived build quality is superb and feels solid photo quality is plus plus i took some photos in dark and they were crisp and clear colours of photos looks natural and attractive ',\n",
              " 'unexpected delivery its delivered today rd august ',\n",
              " 'oneplus nord just received oneplus nord grey gb variant and trust me guys it is just amazing worth every rupees ',\n",
              " 'amazing beast from oneplus so i suppose im the first one to receive this beast from amazon arrived damn early then expected ']"
            ]
          },
          "metadata": {},
          "execution_count": 10
        }
      ]
    },
    {
      "cell_type": "code",
      "source": [
        "#dureaza ~ 3 minute\n",
        "cv = CountVectorizer(\n",
        "    preprocessor = preprocesare,\n",
        "    tokenizer = tokenizare,       \n",
        "    token_pattern = None,\n",
        "    binary = False,           \n",
        "    # max_features = 800,   # primul experiment            \n",
        "    # ngram_range=(1, 3) # construim un vocabular de unigrame, bigrame, trigrame\n",
        "    max_features = 600,  # al doilea experiment - da rezultate mai proaste              \n",
        "    ngram_range=(2, 3) \n",
        "    )\n",
        "\n",
        "# metoda `fit` este folosita in acest caz pentru a determina vocabularul\n",
        "cv.fit(texts)\n",
        "# calculeaza reprezentarile textelor (feature vectors)\n",
        "features = cv.transform(texts) # bag of words\n",
        "feature_names = cv.get_feature_names_out() # cuvintele\n",
        "\n",
        "print(features.shape)\n",
        "print(feature_names[0])\n",
        "print(features[0], '\\n')\n",
        "\n",
        "print(type(cv.vocabulary_))\n",
        "print(sorted(list(cv.vocabulary_.keys())))"
      ],
      "metadata": {
        "colab": {
          "base_uri": "https://localhost:8080/"
        },
        "id": "PyY9aoUfC1_h",
        "outputId": "d1e5745e-77d3-4d22-d9a9-26a5425dae67"
      },
      "execution_count": null,
      "outputs": [
        {
          "output_type": "stream",
          "name": "stdout",
          "text": [
            "(9067, 600)\n",
            "also good\n",
            "  (0, 506)\t1 \n",
            "\n",
            "<class 'dict'>\n",
            "['also good', 'also not', 'amazing phone', 'amazing product', 'auto call', 'auto call recording', 'automatic call', 'average battery', 'average camera', 'average phone', 'awesome camera', 'awesome good', 'awesome mobile', 'awesome phone', 'awesome product', 'back camera', 'backup not', 'backup not good', 'backup poor', 'bad battery', 'bad battery life', 'bad camera', 'bad camera quality', 'bad experience', 'bad mobile', 'bad phone', 'bad product', 'bad quality', 'balanced phone', 'battery back', 'battery backup', 'battery backup not', 'battery backup poor', 'battery bad', 'battery battery', 'battery camera', 'battery drain', 'battery drain fast', 'battery good', 'battery issue', 'battery life', 'battery life also', 'battery life average', 'battery life bad', 'battery life battery', 'battery life camera', 'battery life good', 'battery life not', 'battery life poor', 'battery not', 'battery not good', 'battery performance', 'battery poor', 'be good', 'be improve', 'be well', 'blue marble', 'bluetooth connectivity', 'brand name', 'budget phone', 'build quality', 'but battery', 'but battery life', 'but camera', 'but display', 'but do', 'but do not', 'but good', 'but no', 'but not', 'but not good', 'but one', 'but overall', 'but phone', 'but price', 'but still', 'buy good', 'buy mobile', 'buy nord', 'buy one', 'buy one plus', 'buy oneplus', 'buy oneplus nord', 'buy phone', 'buy product', 'call record', 'call recorder', 'call recording', 'camera also', 'camera average', 'camera awesome', 'camera bad', 'camera battery', 'camera battery life', 'camera but', 'camera camera', 'camera could', 'camera good', 'camera good but', 'camera need', 'camera not', 'camera not good', 'camera not upto', 'camera performance', 'camera phone', 'camera poor', 'camera quality', 'camera quality also', 'camera quality awesome', 'camera quality bad', 'camera quality battery', 'camera quality camera', 'camera quality good', 'camera quality not', 'camera quality poor', 'camera really', 'camera well', 'can not', 'charge phone', 'charge speed', 'connectivity issue', 'could ask', 'could be', 'could be well', 'could have', 'could have well', 'customer care', 'customer service', 'daily driver', 'daily usage', 'daily use', 'day day', 'day usage', 'day use', 'decent phone', 'defective product', 'disappointed camera', 'display good', 'display issue', 'display not', 'display quality', 'display tint', 'display tint issue', 'do not', 'do not buy', 'do not expect', 'do not go', 'do not have', 'do not know', 'do not like', 'do not think', 'do not waste', 'drain fast', 'every penny', 'every thing', 'everything could', 'everything fine', 'everything good', 'excellent mobile', 'excellent performance', 'excellent phone', 'excellent product', 'except battery', 'except camera', 'expect oneplus', 'experience good', 'face issue', 'face unlock', 'fast battery', 'fast but', 'fast camera', 'fast charge', 'fast charging', 'fast delivery', 'feature good', 'feel like', 'feel premium', 'finger print', 'finger print reader', 'fingerprint reader', 'fingerprint scanner', 'fingerprint sensor', 'first oneplus', 'first time', 'flagship phone', 'front camera', 'front camera not', 'full charge', 'g phone', 'gb gb', 'gb ram', 'get phone', 'go good', 'go nord', 'good battery', 'good battery life', 'good budget', 'good budget phone', 'good but', 'good but battery', 'good but not', 'good buy', 'good camera', 'good camera quality', 'good choice', 'good class', 'good daily', 'good device', 'good display', 'good except', 'good expect', 'good experience', 'good feature', 'good fingerprint', 'good g', 'good good', 'good look', 'good mid', 'good mid range', 'good midrange', 'good mobile', 'good mobile good', 'good nice', 'good not', 'good one', 'good oneplus', 'good overall', 'good package', 'good performance', 'good phone', 'good phone but', 'good phone good', 'good phone k', 'good phone price', 'good phone range', 'good price', 'good product', 'good product good', 'good quality', 'good smartphone', 'good thing', 'good use', 'good value', 'good value money', 'great but', 'great camera', 'great deal', 'great performance', 'great phone', 'great product', 'green tint', 'green tint issue', 'have ever', 'have not', 'have use', 'have well', 'headphone jack', 'heating issue', 'heating problem', 'hz refresh', 'hz refresh rate', 'issue battery', 'issue camera', 'issue display', 'issue mobile', 'issue not', 'issue phone', 'k phone', 'last day', 'life also', 'life average', 'life bad', 'life battery', 'life camera', 'life camera quality', 'life good', 'life not', 'life not good', 'life poor', 'light weight', 'like camera', 'like oneplus', 'like phone', 'little bit', 'look good', 'look like', 'look premium', 'love one', 'love phone', 'low brightness', 'low light', 'macro camera', 'main camera', 'may be', 'meet expectation', 'mid range', 'mid range phone', 'mid ranger', 'midrange phone', 'mind blow', 'mm jack', 'mobile but', 'mobile camera', 'mobile good', 'mobile nice', 'mobile not', 'mobile one', 'mobile one plus', 'mobile phone', 'mobile price', 'money battery', 'money good', 'money not', 'money phone', 'money product', 'month usage', 'mp camera', 'much everything', 'much good', 'much well', 'must buy', 'need improve', 'need improvement', 'negative review', 'network issue', 'network problem', 'never settle', 'new phone', 'nice but', 'nice camera', 'nice good', 'nice mobile', 'nice nice', 'nice one', 'nice phone', 'nice phone good', 'nice phone nice', 'nice product', 'no issue', 'no lag', 'nord awesome', 'nord bad', 'nord battery', 'nord camera', 'nord gb', 'nord good', 'nord good phone', 'nord great', 'nord mobile', 'nord nice', 'nord not', 'nord one', 'nord phone', 'nord review', 'normal user', 'not able', 'not available', 'not bad', 'not be', 'not buy', 'not buy phone', 'not buy product', 'not even', 'not expect', 'not expect oneplus', 'not feel', 'not find', 'not flagship', 'not get', 'not give', 'not go', 'not good', 'not good battery', 'not good but', 'not good camera', 'not good expect', 'not good phone', 'not great', 'not happy', 'not have', 'not know', 'not like', 'not mark', 'not meet', 'not meet expectation', 'not much', 'not much good', 'not purchase', 'not recommend', 'not satisfied', 'not support', 'not think', 'not upto', 'not upto mark', 'not use', 'not value', 'not value money', 'not waste', 'not waste money', 'not well', 'not work', 'not work properly', 'not worth', 'not worth money', 'not worthy', 'ok but', 'ok not', 'ok ok', 'one day', 'one good', 'one good phone', 'one month', 'one plus', 'one plus brand', 'one plus nord', 'one plus phone', 'oneplus brand', 'oneplus camera', 'oneplus device', 'oneplus good', 'oneplus mobile', 'oneplus nord', 'oneplus nord good', 'oneplus phone', 'oneplus t', 'os good', 'overall good', 'overall good phone', 'overall good product', 'overall great', 'overall performance', 'overall phone', 'oxygen os', 'perfect phone', 'performance battery', 'performance good', 'performance not', 'phone amazing', 'phone average', 'phone awesome', 'phone bad', 'phone battery', 'phone battery life', 'phone budget', 'phone but', 'phone buy', 'phone camera', 'phone camera quality', 'phone day', 'phone do', 'phone do not', 'phone ever', 'phone everything', 'phone excellent', 'phone first', 'phone get', 'phone go', 'phone good', 'phone good but', 'phone good camera', 'phone good phone', 'phone great', 'phone have', 'phone k', 'phone like', 'phone look', 'phone love', 'phone much', 'phone nice', 'phone nice phone', 'phone no', 'phone not', 'phone one', 'phone one plus', 'phone oneplus', 'phone overall', 'phone performance', 'phone phone', 'phone price', 'phone price range', 'phone range', 'phone really', 'phone smooth', 'phone superb', 'phone use', 'phone value', 'phone well', 'phone will', 'phone work', 'phone worth', 'picture quality', 'pink tint', 'play game', 'play pubg', 'please do', 'please do not', 'plus brand', 'plus nord', 'plus nord good', 'plus phone', 'poor battery', 'poor battery backup', 'poor battery life', 'poor camera', 'poor camera quality', 'poor quality', 'pre order', 'premium look', 'premium phone', 'pretty good', 'pretty much', 'pretty much everything', 'price good', 'price point', 'price range', 'price segment', 'print reader', 'problem battery', 'product awesome', 'product battery', 'product but', 'product good', 'product good product', 'product nice', 'product one', 'product one plus', 'product oneplus', 'product price', 'quality also', 'quality average', 'quality awesome', 'quality bad', 'quality battery', 'quality camera', 'quality camera quality', 'quality good', 'quality not', 'quality not good', 'quality phone', 'quality poor', 'quality product', 'quite good', 'ram gb', 'range good', 'range phone', 'reader fast', 'reader good', 'really good', 'really like', 'really love', 'rear camera', 'refresh rate', 'review day', 'review use', 'selfie camera', 'smart phone', 'smooth experience', 'software update', 'sound quality', 'speaker not', 'super fast', 'super phone', 'superb mobile', 'superb phone', 'th august', 'thank amazon', 'thank oneplus', 'think buy', 'tint issue', 'upto mark', 'use day', 'use mobile', 'use month', 'use one', 'use oneplus', 'use phone', 'user experience', 'value money', 'value money good', 'warp charge', 'waste money', 'well but', 'well camera', 'well good', 'well one', 'well phone', 'will be', 'will get', 'will not', 'work fine', 'work properly', 'work well', 'worth buy', 'worth every', 'worth every penny', 'worth k', 'worth money', 'worth price', 'would be', 'write review']\n"
          ]
        }
      ]
    },
    {
      "cell_type": "code",
      "source": [
        "import matplotlib.pyplot as plt\n",
        "\n",
        "sum_words = features.sum(axis=0) \n",
        "words_freq = [(word, sum_words[0, idx]) for word, idx in cv.vocabulary_.items()]\n",
        "words_freq = sorted(words_freq, key = lambda x: x[1], reverse=True)\n",
        "\n",
        "#n = 30\n",
        "n = 20\n",
        "print(words_freq[0:n])\n",
        "\n",
        "words = [item[0] for item in words_freq[0:n]]\n",
        "freq = [item[1] for item in words_freq[0:n]]\n",
        "\n",
        "plt.figure(figsize=(30, 10))\n",
        "plt.bar(words, freq, orientation='vertical')\n",
        "plt.show()"
      ],
      "metadata": {
        "colab": {
          "base_uri": "https://localhost:8080/"
        },
        "id": "KYx719535PKP",
        "outputId": "7f075c17-ed78-4163-a63a-f0164f13cd33"
      },
      "execution_count": null,
      "outputs": [
        {
          "output_type": "stream",
          "name": "stdout",
          "text": [
            "[('one plus', 1000), ('good phone', 815), ('battery life', 782), ('camera quality', 755), ('do not', 650), ('not good', 603), ('oneplus nord', 486), ('value money', 387), ('phone good', 357), ('plus nord', 349), ('good product', 346), ('one plus nord', 342), ('good but', 331), ('not buy', 264), ('battery backup', 257), ('battery drain', 246), ('do not buy', 245), ('camera not', 245), ('good camera', 233), ('nice phone', 233)]\n"
          ]
        },
        {
          "output_type": "display_data",
          "data": {
            "text/plain": [
              "<Figure size 2160x720 with 1 Axes>"
            ],
            "image/png": "[encoded data removed]"
          },
          "metadata": {
            "needs_background": "light"
          }
        }
      ]
    },
    {
      "cell_type": "code",
      "source": [
        "data = features.toarray()\n",
        "\n",
        "# clasa folosita pentru normalizare\n",
        "scaler = preprocessing.Normalizer(norm='l2')\n",
        "\n",
        "# scalam vectorii de train\n",
        "scaled_data = scaler.transform(data)\n",
        "\n",
        "train_data1, test_data1, train_labels1, test_labels1 = train_test_split(scaled_data, labels, test_size=0.2, random_state=55)\n",
        "train_data_3labels, test_data_3labels, train_labels_3, test_labels_3 = train_test_split(scaled_data, labels_fewer, test_size=0.2, random_state=55)\n",
        "train_data1"
      ],
      "metadata": {
        "colab": {
          "base_uri": "https://localhost:8080/"
        },
        "id": "URKHcvBIErJW",
        "outputId": "37673984-3c57-4d1f-c5e8-2be1e6b74f75"
      },
      "execution_count": null,
      "outputs": [
        {
          "output_type": "execute_result",
          "data": {
            "text/plain": [
              "array([[0., 0., 0., ..., 0., 0., 0.],\n",
              "       [0., 0., 0., ..., 0., 0., 0.],\n",
              "       [0., 0., 0., ..., 0., 0., 0.],\n",
              "       ...,\n",
              "       [0., 0., 0., ..., 0., 0., 0.],\n",
              "       [0., 0., 0., ..., 0., 0., 0.],\n",
              "       [0., 0., 0., ..., 0., 0., 0.]])"
            ]
          },
          "metadata": {},
          "execution_count": 13
        }
      ]
    },
    {
      "cell_type": "code",
      "source": [
        "def evaluate(fitted_clf, test_data, true_labels):\n",
        "  # folosim modelul pentru a prezice label-urile de test\n",
        "  predict = fitted_clf.predict(test_data)\n",
        "  accuracy = metrics.accuracy_score(true_labels, predict)\n",
        "  f1_weighted = metrics.f1_score(true_labels, predict, average=\"weighted\")\n",
        "  print(\"Accuracy:\", accuracy)\n",
        "  print(\"Precision (macro):\", metrics.precision_score(true_labels, predict, average=\"macro\"))\n",
        "  print(\"Precision (weighted):\", metrics.precision_score(true_labels, predict, average=\"weighted\"))\n",
        "  print(\"Recall (macro):\", metrics.recall_score(true_labels, predict, average=\"macro\"))\n",
        "  print(\"Recall (weighted):\", metrics.recall_score(true_labels, predict, average=\"weighted\"))\n",
        "  print(\"F1 (macro):\", metrics.f1_score(true_labels, predict, average=\"macro\"))\n",
        "  print(\"F1 (weighted):\", f1_weighted), print(\"\")\n",
        "  return predict, accuracy, f1_weighted"
      ],
      "metadata": {
        "id": "ctd5gNG9sk3g"
      },
      "execution_count": null,
      "outputs": []
    },
    {
      "cell_type": "code",
      "source": [
        "mlp1 = MLPClassifier(hidden_layer_sizes=(10), activation='relu', solver='adam', alpha=0.01, batch_size='auto',\n",
        "                     learning_rate='constant', learning_rate_init=0.01, n_iter_no_change=10, max_iter=300, tol=0.00001,\n",
        "                     shuffle=True, random_state=10, warm_start=True)\n",
        "\n",
        "# antrenam folosind datele de train\n",
        "mlp1.fit(train_data1, train_labels1)\n",
        "mlp1_predict, mlp1_accuracy, mlp1_f1_weighted = evaluate(mlp1, test_data1, test_labels1)\n",
        "\n",
        "print(metrics.classification_report(test_labels1, mlp1_predict))\n",
        "cm_mlp1 = metrics.confusion_matrix(test_labels1, mlp1_predict)\n",
        "print(cm_mlp1) # <- matrice de confuzie\n",
        "# Face confuzie mare intre Bad/Very Bad si Good/Very Good\n",
        "\n",
        "\n",
        "ax = sns.heatmap(cm_mlp1, annot=True, cmap='Blues')\n",
        "\n",
        "ax.set_title('Confusion Matrix \\n\\n');\n",
        "ax.set_xlabel('\\nPredicted Values')\n",
        "ax.set_ylabel('Actual Values ');\n",
        "\n",
        "plt.show()\n",
        "\n",
        "\n",
        "# max_features = 800 + ngram_range=(1, 3) da urm. rezultate:\n",
        "# Accuracy: 0.5452039691289967\n",
        "# Precision (macro): 0.38657596002996125\n",
        "# Precision (weighted): 0.544962461730354\n",
        "# Recall (macro): 0.38603468725347934\n",
        "# Recall (weighted): 0.5452039691289967\n",
        "# F1 (macro): 0.38620236380929895\n",
        "# F1 (weighted): 0.5450396383746503"
      ],
      "metadata": {
        "colab": {
          "base_uri": "https://localhost:8080/"
        },
        "id": "XbIN0_2dt1Ef",
        "outputId": "c5063d72-cbe5-4de9-a23c-90d7722e62b7"
      },
      "execution_count": null,
      "outputs": [
        {
          "output_type": "stream",
          "name": "stdout",
          "text": [
            "Accuracy: 0.5363836824696803\n",
            "Precision (macro): 0.3761405756580193\n",
            "Precision (weighted): 0.5159204107786998\n",
            "Recall (macro): 0.37109817412981294\n",
            "Recall (weighted): 0.5363836824696803\n",
            "F1 (macro): 0.3726215630319497\n",
            "F1 (weighted): 0.5247812837115212\n",
            "\n",
            "              precision    recall  f1-score   support\n",
            "\n",
            "         Bad       0.16      0.14      0.15        84\n",
            "        Good       0.30      0.25      0.27       382\n",
            "     Neutral       0.24      0.22      0.23       171\n",
            "    Very Bad       0.49      0.49      0.49       226\n",
            "   Very Good       0.69      0.75      0.72       951\n",
            "\n",
            "    accuracy                           0.54      1814\n",
            "   macro avg       0.38      0.37      0.37      1814\n",
            "weighted avg       0.52      0.54      0.52      1814\n",
            "\n",
            "[[ 12   8  21  20  23]\n",
            " [ 17  95  37  31 202]\n",
            " [ 14  41  38  32  46]\n",
            " [ 19  17  28 110  52]\n",
            " [ 12 154  34  33 718]]\n"
          ]
        },
        {
          "output_type": "display_data",
          "data": {
            "text/plain": [
              "<Figure size 432x288 with 2 Axes>"
            ],
            "image/png": "[encoded data removed]"
          },
          "metadata": {
            "needs_background": "light"
          }
        }
      ]
    },
    {
      "cell_type": "code",
      "source": [
        "mlp2 = MLPClassifier(hidden_layer_sizes=(10), activation='relu', solver='adam', alpha=0.01, batch_size='auto',\n",
        "                     learning_rate='constant', learning_rate_init=0.01, n_iter_no_change=10, max_iter=300, tol=0.00001,\n",
        "                     shuffle=True, random_state=10, warm_start=True)\n",
        "\n",
        "# antrenam folosind datele de train\n",
        "mlp2.fit(train_data_3labels, train_labels_3)\n",
        "mlp2_predict, mlp2_accuracy, mlp2_f1_weighted = evaluate(mlp2, test_data_3labels, test_labels_3)\n",
        "\n",
        "print(metrics.classification_report(test_labels_3, mlp2_predict))\n",
        "cm_mlp2 = metrics.confusion_matrix(test_labels_3, mlp2_predict)\n",
        "print(cm_mlp2)\n",
        "\n",
        "ax = sns.heatmap(cm_mlp2, annot=True, cmap='Blues')\n",
        "\n",
        "ax.set_title('Confusion Matrix \\n\\n');\n",
        "ax.set_xlabel('\\nPredicted Values')\n",
        "ax.set_ylabel('Actual Values ');\n",
        "\n",
        "plt.show()\n",
        "\n",
        "# max_features = 800 + ngram_range=(1, 3) da urm. rezultate:\n",
        "# Accuracy: 0.8020948180815877\n",
        "# Precision (macro): 0.6265079648447874\n",
        "# Precision (weighted): 0.8082544310021007\n",
        "# Recall (macro): 0.6358864569943656\n",
        "# Recall (weighted): 0.8020948180815877\n",
        "# F1 (macro): 0.6309038717679664\n",
        "# F1 (weighted): 0.8050485400902837"
      ],
      "metadata": {
        "colab": {
          "base_uri": "https://localhost:8080/"
        },
        "id": "rIpdLbVMQR-5",
        "outputId": "4a320ba0-1604-4a7a-e0fc-8cd8767b35fb"
      },
      "execution_count": null,
      "outputs": [
        {
          "output_type": "stream",
          "name": "stdout",
          "text": [
            "Accuracy: 0.7668136714443219\n",
            "Precision (macro): 0.560971920138308\n",
            "Precision (weighted): 0.7579354322495696\n",
            "Recall (macro): 0.5452668722736239\n",
            "Recall (weighted): 0.7668136714443219\n",
            "F1 (macro): 0.5524186098555521\n",
            "F1 (weighted): 0.7619096525470916\n",
            "\n",
            "              precision    recall  f1-score   support\n",
            "\n",
            "         bad       0.58      0.52      0.55       310\n",
            "        good       0.87      0.89      0.88      1333\n",
            "     neutral       0.24      0.22      0.23       171\n",
            "\n",
            "    accuracy                           0.77      1814\n",
            "   macro avg       0.56      0.55      0.55      1814\n",
            "weighted avg       0.76      0.77      0.76      1814\n",
            "\n",
            "[[ 161  100   49]\n",
            " [  68 1192   73]\n",
            " [  49   84   38]]\n"
          ]
        },
        {
          "output_type": "display_data",
          "data": {
            "text/plain": [
              "<Figure size 432x288 with 2 Axes>"
            ],
            "image/png": "[encoded data removed]"
          },
          "metadata": {
            "needs_background": "light"
          }
        }
      ]
    },
    {
      "cell_type": "code",
      "source": [
        "svc1 = SVC(C=1, kernel='rbf', gamma='scale', tol=0.0001, class_weight=None, max_iter=-1, random_state=10)\n",
        "\n",
        "# antrenam folosind datele de train\n",
        "svc1.fit(train_data1, train_labels1)\n",
        "\n",
        "svc1_predict, svc1_accuracy, svc1_f1_weighted = evaluate(svc1, test_data1, test_labels1)\n",
        "\n",
        "print(metrics.classification_report(test_labels1, svc1_predict))\n",
        "cm_svc1 = metrics.confusion_matrix(test_labels1, svc1_predict)\n",
        "print(cm_svc1)\n",
        "# Face confuzie mare intre Bad/Very Bad si Good/Very Good\n",
        "\n",
        "ax = sns.heatmap(cm_svc1, annot=True, cmap='Blues')\n",
        "\n",
        "ax.set_title('Confusion Matrix \\n\\n');\n",
        "ax.set_xlabel('\\nPredicted Values')\n",
        "ax.set_ylabel('Actual Values ');\n",
        "\n",
        "plt.show()\n",
        "\n",
        "\n",
        "# max_features = 800 + ngram_range=(1, 3) da urm. rezultate:\n",
        "# Accuracy: 0.6251378169790518\n",
        "# Precision (macro): 0.4547753051351675\n",
        "# Precision (weighted): 0.56945076576903\n",
        "# Recall (macro): 0.41251872735761824\n",
        "# Recall (weighted): 0.6251378169790518\n",
        "# F1 (macro): 0.39472150299558\n",
        "# F1 (weighted): 0.5795936026205682"
      ],
      "metadata": {
        "colab": {
          "base_uri": "https://localhost:8080/"
        },
        "id": "cI5Iv1cMfcMq",
        "outputId": "ea217ebf-0686-441c-e4b1-c69139073cbe"
      },
      "execution_count": null,
      "outputs": [
        {
          "output_type": "stream",
          "name": "stdout",
          "text": [
            "Accuracy: 0.593715545755237\n",
            "Precision (macro): 0.370103746135661\n",
            "Precision (weighted): 0.5189377698249006\n",
            "Recall (macro): 0.3585139357801149\n",
            "Recall (weighted): 0.593715545755237\n",
            "F1 (macro): 0.35326170432665893\n",
            "F1 (weighted): 0.5421171912485543\n",
            "\n",
            "              precision    recall  f1-score   support\n",
            "\n",
            "         Bad       0.00      0.00      0.00        84\n",
            "        Good       0.34      0.20      0.25       382\n",
            "     Neutral       0.30      0.16      0.21       171\n",
            "    Very Bad       0.54      0.54      0.54       226\n",
            "   Very Good       0.67      0.90      0.77       951\n",
            "\n",
            "    accuracy                           0.59      1814\n",
            "   macro avg       0.37      0.36      0.35      1814\n",
            "weighted avg       0.52      0.59      0.54      1814\n",
            "\n",
            "[[  0  10  19  26  29]\n",
            " [  1  76  24  22 259]\n",
            " [  1  44  27  35  64]\n",
            " [  2  19  18 122  65]\n",
            " [  1  76   3  19 852]]\n"
          ]
        },
        {
          "output_type": "display_data",
          "data": {
            "text/plain": [
              "<Figure size 432x288 with 2 Axes>"
            ],
            "image/png": "[encoded data removed]"
          },
          "metadata": {
            "needs_background": "light"
          }
        }
      ]
    },
    {
      "cell_type": "code",
      "source": [
        "svc2 = SVC(C=1.0, kernel='rbf', gamma='scale', tol=0.0001, class_weight=None, max_iter=-1, random_state=10)\n",
        "\n",
        "# antrenam folosind datele de train\n",
        "svc2.fit(train_data_3labels, train_labels_3)\n",
        "\n",
        "svc2_predict, svc2_accuracy, svc2_f1_weighted = evaluate(svc2, test_data_3labels, test_labels_3)\n",
        "\n",
        "print(metrics.classification_report(test_labels_3, svc2_predict))\n",
        "cm_svc2 = metrics.confusion_matrix(test_labels_3, svc2_predict)\n",
        "print(cm_svc2)\n",
        "\n",
        "\n",
        "ax = sns.heatmap(cm_svc2, annot=True, cmap='Blues')\n",
        "\n",
        "ax.set_title('Confusion Matrix \\n\\n');\n",
        "ax.set_xlabel('\\nPredicted Values')\n",
        "ax.set_ylabel('Actual Values ');\n",
        "\n",
        "plt.show()\n",
        "\n",
        "# max_features = 800 + ngram_range=(1, 3) da urm. rezultate:\n",
        "# Accuracy: 0.8357221609702316\n",
        "# Precision (macro): 0.6511216159999346\n",
        "# Precision (weighted): 0.8025403752005661\n",
        "# Recall (macro): 0.5860313031474242\n",
        "# Recall (weighted): 0.8357221609702316\n",
        "# F1 (macro): 0.579947105485788\n",
        "# F1 (weighted): 0.8071727657692094"
      ],
      "metadata": {
        "colab": {
          "base_uri": "https://localhost:8080/"
        },
        "id": "RpzIuomvmuJf",
        "outputId": "dec4c252-860d-4e61-e416-b9359ff0fe10"
      },
      "execution_count": null,
      "outputs": [
        {
          "output_type": "stream",
          "name": "stdout",
          "text": [
            "Accuracy: 0.8004410143329658\n",
            "Precision (macro): 0.5624632637507785\n",
            "Precision (weighted): 0.7462982445045119\n",
            "Recall (macro): 0.5135713752999654\n",
            "Recall (weighted): 0.8004410143329658\n",
            "F1 (macro): 0.5143198159083148\n",
            "F1 (weighted): 0.7640403547174865\n",
            "\n",
            "              precision    recall  f1-score   support\n",
            "\n",
            "         bad       0.63      0.55      0.59       310\n",
            "        good       0.84      0.96      0.90      1333\n",
            "     neutral       0.21      0.04      0.06       171\n",
            "\n",
            "    accuracy                           0.80      1814\n",
            "   macro avg       0.56      0.51      0.51      1814\n",
            "weighted avg       0.75      0.80      0.76      1814\n",
            "\n",
            "[[ 170  128   12]\n",
            " [  47 1276   10]\n",
            " [  52  113    6]]\n"
          ]
        },
        {
          "output_type": "display_data",
          "data": {
            "text/plain": [
              "<Figure size 432x288 with 2 Axes>"
            ],
            "image/png": "[encoded data removed]"
          },
          "metadata": {
            "needs_background": "light"
          }
        }
      ]
    }
  ]
}